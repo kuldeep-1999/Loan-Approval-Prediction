{
 "cells": [
  {
   "cell_type": "markdown",
   "id": "62bc3390",
   "metadata": {},
   "source": [
    "<center>\n",
    "    \n",
    "---\n",
    "# <font size = 7> **Loan Approval Prediction** </font>\n",
    "---\n",
    "    \n",
    "</center>\n"
   ]
  },
  {
   "cell_type": "markdown",
   "id": "8d3ee694",
   "metadata": {},
   "source": [
    "# <font color = \"brown\" size = 6> **Process Flow of Project:** </font>\n",
    "\n",
    "\n",
    "1. Problem Statement\n",
    "2. Features in Dataset\n",
    "3. Data Collection\n",
    "4. Data Cleaning and Data Preprocessing\n",
    "5. Exploratory Data Analysis (EDA)\n",
    "6. Data Transformation \n",
    "7. Model Buidling & Evaluation\n",
    "8. Selection of Best Model & Hyperparameter Tuninng\n",
    "9. Generating Pickle file"
   ]
  },
  {
   "cell_type": "markdown",
   "id": "1a25314f",
   "metadata": {},
   "source": [
    "# <font color = \"brown\" size = 6> **Problem Statments:** </font>\n",
    "**Loans** are the major requirement of the modern world. By this only, Banks get a major part of the total profit. It is beneficial for a students to manage their education and living expenses, and for people to buy any kind of luxury like houses, cars, etc. But when it comes to deciding whether the applicant's profile is relevent to be granted with loan or not. Banks have to look after many aspects. I going to develop one such model that can predict whether a person will get his/her loan approved or not by using some of the background information of the applicant like the applicant's gender, marital status, income, credit history, etc."
   ]
  },
  {
   "cell_type": "markdown",
   "id": "def5df6e",
   "metadata": {},
   "source": [
    "# <font color =\"brown\" size = 6> **Features in Dataset:** </font>\n",
    ">**Loan_ID** : A unique identifier for each loan application. It doesn't contribute to the decision making process but can be useful for record keeping.\n",
    "\n",
    ">**Gender**: Gender of the applicant (Female, Male)\n",
    "\n",
    ">**Married** : The marital status of applicant (Yes- Married and No- Not Married).\n",
    "\n",
    ">**Dependents**: Number of peoples depends on Applicant (0 to 4).\n",
    "\n",
    ">**Education** : Educational background of applicant (Graduate and Not Graduate).\n",
    "\n",
    ">**Self_Employed** : Salf_Employed individuals may face different income patterns compared to salaried individuals (Yes or No).\n",
    "\n",
    ">**Applicant Income**: Higher income generally indicates a better ability to repay a loan. However extremely high or low income might be red flag.\n",
    "\n",
    ">**Coapplicant Income** : The income of coapplicant can suppliment the houshold income, affecting the overall repayment capacity.\n",
    "\n",
    ">**Loan_Amount** : The amount of the loan applied for is crucial. Lenders will assess whether the requedted loan amount aligns with the applicant's income and financial situation.\n",
    "\n",
    ">**Loan_Amount_Term** : The term of the loan affects monthly repayment amounts. Shorter terms might indicate a quicker repayment ability, while longer term might associated  with the higher overall interest payments.\n",
    "\n",
    ">**Credit_History** : This is likely one of the most Important factors. A good credit history (1.0) is generally associated with a higher likelihood of loan approval (1.0, 0.0)\n",
    "\n",
    ">**Property_Area** : The location of property can influence loan approval. Lenders may have specific criteria for different regions (Rural, Urban, Semiurban).\n",
    "\n",
    ">**Loan_Status** : Indicating whether the loan was approved or not. It is a Target variable."
   ]
  },
  {
   "cell_type": "code",
   "execution_count": 1,
   "id": "e23bc1c1",
   "metadata": {},
   "outputs": [],
   "source": [
    "# Importing necessary libraries.\n",
    "\n",
    "import pandas as pd              # for data manipulation and analysis.\n",
    "import numpy as np               # for numerical operations.\n",
    "import matplotlib.pyplot as plt  # for plotting data and visualizations.\n",
    "import seaborn as sns            # for statistical data visualization.\n",
    "import warnings                  # to ignored the unnecessary warnings\n",
    "warnings.filterwarnings('ignore')\n",
    "\n",
    "%matplotlib inline"
   ]
  },
  {
   "cell_type": "markdown",
   "id": "5a7f8c83",
   "metadata": {},
   "source": [
    "<font color =\"brown\" size = 6> **Data Collection:** </font>"
   ]
  },
  {
   "cell_type": "code",
   "execution_count": 2,
   "id": "c45addd5",
   "metadata": {},
   "outputs": [
    {
     "data": {
      "text/html": [
       "<div>\n",
       "<style scoped>\n",
       "    .dataframe tbody tr th:only-of-type {\n",
       "        vertical-align: middle;\n",
       "    }\n",
       "\n",
       "    .dataframe tbody tr th {\n",
       "        vertical-align: top;\n",
       "    }\n",
       "\n",
       "    .dataframe thead th {\n",
       "        text-align: right;\n",
       "    }\n",
       "</style>\n",
       "<table border=\"1\" class=\"dataframe\">\n",
       "  <thead>\n",
       "    <tr style=\"text-align: right;\">\n",
       "      <th></th>\n",
       "      <th>Loan_ID</th>\n",
       "      <th>Gender</th>\n",
       "      <th>Married</th>\n",
       "      <th>Dependents</th>\n",
       "      <th>Education</th>\n",
       "      <th>Self_Employed</th>\n",
       "      <th>ApplicantIncome</th>\n",
       "      <th>CoapplicantIncome</th>\n",
       "      <th>LoanAmount</th>\n",
       "      <th>Loan_Amount_Term</th>\n",
       "      <th>Credit_History</th>\n",
       "      <th>Property_Area</th>\n",
       "      <th>Loan_Status</th>\n",
       "    </tr>\n",
       "  </thead>\n",
       "  <tbody>\n",
       "    <tr>\n",
       "      <th>0</th>\n",
       "      <td>LP001002</td>\n",
       "      <td>Male</td>\n",
       "      <td>No</td>\n",
       "      <td>0.0</td>\n",
       "      <td>Graduate</td>\n",
       "      <td>No</td>\n",
       "      <td>5849</td>\n",
       "      <td>0.0</td>\n",
       "      <td>NaN</td>\n",
       "      <td>360.0</td>\n",
       "      <td>1.0</td>\n",
       "      <td>Urban</td>\n",
       "      <td>Y</td>\n",
       "    </tr>\n",
       "    <tr>\n",
       "      <th>1</th>\n",
       "      <td>LP001003</td>\n",
       "      <td>Male</td>\n",
       "      <td>Yes</td>\n",
       "      <td>1.0</td>\n",
       "      <td>Graduate</td>\n",
       "      <td>No</td>\n",
       "      <td>4583</td>\n",
       "      <td>1508.0</td>\n",
       "      <td>128.0</td>\n",
       "      <td>360.0</td>\n",
       "      <td>1.0</td>\n",
       "      <td>Rural</td>\n",
       "      <td>N</td>\n",
       "    </tr>\n",
       "    <tr>\n",
       "      <th>2</th>\n",
       "      <td>LP001005</td>\n",
       "      <td>Male</td>\n",
       "      <td>Yes</td>\n",
       "      <td>0.0</td>\n",
       "      <td>Graduate</td>\n",
       "      <td>Yes</td>\n",
       "      <td>3000</td>\n",
       "      <td>0.0</td>\n",
       "      <td>66.0</td>\n",
       "      <td>360.0</td>\n",
       "      <td>1.0</td>\n",
       "      <td>Urban</td>\n",
       "      <td>Y</td>\n",
       "    </tr>\n",
       "    <tr>\n",
       "      <th>3</th>\n",
       "      <td>LP001006</td>\n",
       "      <td>Male</td>\n",
       "      <td>Yes</td>\n",
       "      <td>0.0</td>\n",
       "      <td>Not Graduate</td>\n",
       "      <td>No</td>\n",
       "      <td>2583</td>\n",
       "      <td>2358.0</td>\n",
       "      <td>120.0</td>\n",
       "      <td>360.0</td>\n",
       "      <td>1.0</td>\n",
       "      <td>Urban</td>\n",
       "      <td>Y</td>\n",
       "    </tr>\n",
       "    <tr>\n",
       "      <th>4</th>\n",
       "      <td>LP001008</td>\n",
       "      <td>Male</td>\n",
       "      <td>No</td>\n",
       "      <td>0.0</td>\n",
       "      <td>Graduate</td>\n",
       "      <td>No</td>\n",
       "      <td>6000</td>\n",
       "      <td>0.0</td>\n",
       "      <td>141.0</td>\n",
       "      <td>360.0</td>\n",
       "      <td>1.0</td>\n",
       "      <td>Urban</td>\n",
       "      <td>Y</td>\n",
       "    </tr>\n",
       "  </tbody>\n",
       "</table>\n",
       "</div>"
      ],
      "text/plain": [
       "    Loan_ID Gender Married  Dependents     Education Self_Employed  \\\n",
       "0  LP001002   Male      No         0.0      Graduate            No   \n",
       "1  LP001003   Male     Yes         1.0      Graduate            No   \n",
       "2  LP001005   Male     Yes         0.0      Graduate           Yes   \n",
       "3  LP001006   Male     Yes         0.0  Not Graduate            No   \n",
       "4  LP001008   Male      No         0.0      Graduate            No   \n",
       "\n",
       "   ApplicantIncome  CoapplicantIncome  LoanAmount  Loan_Amount_Term  \\\n",
       "0             5849                0.0         NaN             360.0   \n",
       "1             4583             1508.0       128.0             360.0   \n",
       "2             3000                0.0        66.0             360.0   \n",
       "3             2583             2358.0       120.0             360.0   \n",
       "4             6000                0.0       141.0             360.0   \n",
       "\n",
       "   Credit_History Property_Area Loan_Status  \n",
       "0             1.0         Urban           Y  \n",
       "1             1.0         Rural           N  \n",
       "2             1.0         Urban           Y  \n",
       "3             1.0         Urban           Y  \n",
       "4             1.0         Urban           Y  "
      ]
     },
     "execution_count": 2,
     "metadata": {},
     "output_type": "execute_result"
    }
   ],
   "source": [
    "cr = pd.read_csv(r\"C:\\Users\\dell\\OneDrive\\Documents\\IMARTICUS LEARNING\\python data sets\\CreditRisk.csv\") \n",
    "cr.head()"
   ]
  },
  {
   "cell_type": "markdown",
   "id": "907aa198",
   "metadata": {},
   "source": [
    "### Checking the numbers of rows and columns"
   ]
  },
  {
   "cell_type": "code",
   "execution_count": 3,
   "id": "ceee5bc9",
   "metadata": {},
   "outputs": [
    {
     "data": {
      "text/plain": [
       "(981, 13)"
      ]
     },
     "execution_count": 3,
     "metadata": {},
     "output_type": "execute_result"
    }
   ],
   "source": [
    "cr.shape"
   ]
  },
  {
   "cell_type": "code",
   "execution_count": 4,
   "id": "0495d167",
   "metadata": {},
   "outputs": [
    {
     "data": {
      "text/plain": [
       "Index(['Loan_ID', 'Gender', 'Married', 'Dependents', 'Education',\n",
       "       'Self_Employed', 'ApplicantIncome', 'CoapplicantIncome', 'LoanAmount',\n",
       "       'Loan_Amount_Term', 'Credit_History', 'Property_Area', 'Loan_Status'],\n",
       "      dtype='object')"
      ]
     },
     "execution_count": 4,
     "metadata": {},
     "output_type": "execute_result"
    }
   ],
   "source": [
    "cr.columns"
   ]
  },
  {
   "cell_type": "code",
   "execution_count": 5,
   "id": "200b0a4a",
   "metadata": {},
   "outputs": [
    {
     "name": "stdout",
     "output_type": "stream",
     "text": [
      "<class 'pandas.core.frame.DataFrame'>\n",
      "RangeIndex: 981 entries, 0 to 980\n",
      "Data columns (total 13 columns):\n",
      " #   Column             Non-Null Count  Dtype  \n",
      "---  ------             --------------  -----  \n",
      " 0   Loan_ID            981 non-null    object \n",
      " 1   Gender             957 non-null    object \n",
      " 2   Married            978 non-null    object \n",
      " 3   Dependents         956 non-null    float64\n",
      " 4   Education          981 non-null    object \n",
      " 5   Self_Employed      926 non-null    object \n",
      " 6   ApplicantIncome    981 non-null    int64  \n",
      " 7   CoapplicantIncome  981 non-null    float64\n",
      " 8   LoanAmount         954 non-null    float64\n",
      " 9   Loan_Amount_Term   961 non-null    float64\n",
      " 10  Credit_History     902 non-null    float64\n",
      " 11  Property_Area      981 non-null    object \n",
      " 12  Loan_Status        981 non-null    object \n",
      "dtypes: float64(5), int64(1), object(7)\n",
      "memory usage: 99.8+ KB\n"
     ]
    }
   ],
   "source": [
    "#getting all the information of dataset using info command\n",
    "#info command gives\n",
    "  #1 No of rows\n",
    "  #2 No of columns\n",
    "  #3 No of float,int,object columns\n",
    "  #4 Datatype of all the columns\n",
    "  #5 Notnull values of all the columns\n",
    "  #6 Memory used for storing\n",
    "cr.info()"
   ]
  },
  {
   "cell_type": "code",
   "execution_count": null,
   "id": "ea5190b0",
   "metadata": {},
   "outputs": [],
   "source": []
  },
  {
   "cell_type": "markdown",
   "id": "0bf59823",
   "metadata": {},
   "source": [
    "# <font color = \"brown\" size =6>**Data Cleaning and Data Preprocessing:** </font>"
   ]
  },
  {
   "cell_type": "markdown",
   "id": "d7aa2441",
   "metadata": {},
   "source": [
    "### Checking Null Values :"
   ]
  },
  {
   "cell_type": "code",
   "execution_count": 6,
   "id": "a1c8ca17",
   "metadata": {},
   "outputs": [
    {
     "data": {
      "text/plain": [
       "Gender              24\n",
       "Married              3\n",
       "Dependents          25\n",
       "Self_Employed       55\n",
       "LoanAmount          27\n",
       "Loan_Amount_Term    20\n",
       "Credit_History      79\n",
       "dtype: int64"
      ]
     },
     "execution_count": 6,
     "metadata": {},
     "output_type": "execute_result"
    }
   ],
   "source": [
    "cr.isnull().sum()[cr.isnull().sum() > 0]"
   ]
  },
  {
   "cell_type": "code",
   "execution_count": 7,
   "id": "7d411a2b",
   "metadata": {},
   "outputs": [
    {
     "name": "stdout",
     "output_type": "stream",
     "text": [
      "Percentage of null values in Gender column: 2.45 %\n",
      "Percentage of null values in Married column: 0.31 %\n",
      "Percentage of null values in Dependents column: 2.55 %\n",
      "Percentage of null values in Self_Employed column: 5.61 %\n",
      "Percentage of null values in LoanAmount column: 2.75 %\n",
      "Percentage of null values in Loan_Amount_Term column: 2.04 %\n",
      "Percentage of null values in Credit_History column: 8.05 %\n"
     ]
    }
   ],
   "source": [
    "percentage_null = (cr['Gender'].isnull().sum() / len(cr['Gender']) * 100).round(2)\n",
    "print(\"Percentage of null values in Gender column:\", percentage_null,'%')\n",
    "\n",
    "percentage_null = (cr['Married'].isnull().sum() / len(cr['Married']) * 100).round(2)\n",
    "print(\"Percentage of null values in Married column:\", percentage_null,'%')\n",
    "\n",
    "percentage_null = (cr['Dependents'].isnull().sum() / len(cr['Dependents']) * 100).round(2)\n",
    "print(\"Percentage of null values in Dependents column:\", percentage_null,'%')\n",
    "\n",
    "percentage_null = (cr['Self_Employed'].isnull().sum() / len(cr['Self_Employed']) * 100).round(2)\n",
    "print(\"Percentage of null values in Self_Employed column:\", percentage_null,'%')\n",
    "\n",
    "percentage_null = (cr['LoanAmount'].isnull().sum() / len(cr['LoanAmount']) * 100).round(2)\n",
    "print(\"Percentage of null values in LoanAmount column:\", percentage_null,'%')\n",
    "\n",
    "percentage_null = (cr['Loan_Amount_Term'].isnull().sum() / len(cr['Loan_Amount_Term']) * 100).round(2)\n",
    "print(\"Percentage of null values in Loan_Amount_Term column:\", percentage_null,'%')\n",
    "\n",
    "percentage_null = (cr['Credit_History'].isnull().sum() / len(cr['Credit_History']) * 100).round(2)\n",
    "print(\"Percentage of null values in Credit_History column:\", percentage_null,'%')"
   ]
  },
  {
   "cell_type": "markdown",
   "id": "5fd397d9",
   "metadata": {},
   "source": [
    "### Fill the null values of numerical datatype :"
   ]
  },
  {
   "cell_type": "code",
   "execution_count": 8,
   "id": "1f67eee6",
   "metadata": {},
   "outputs": [],
   "source": [
    "cr.LoanAmount.fillna(cr.LoanAmount.median(),inplace=True)\n",
    "cr.Loan_Amount_Term.fillna(cr.Loan_Amount_Term.median(),inplace=True)\n",
    "cr.Credit_History.fillna(0,inplace=True)"
   ]
  },
  {
   "cell_type": "markdown",
   "id": "bc434ba9",
   "metadata": {},
   "source": [
    "### Fill the null values of categorical datatype :"
   ]
  },
  {
   "cell_type": "code",
   "execution_count": 9,
   "id": "b5c1c1be",
   "metadata": {},
   "outputs": [],
   "source": [
    "cr.Gender.fillna('Male',inplace=True)\n",
    "cr.Married.fillna('Yes',inplace=True)\n",
    "cr.Dependents.fillna(0,inplace=True)\n",
    "cr.Self_Employed.fillna('No',inplace=True)"
   ]
  },
  {
   "cell_type": "code",
   "execution_count": 10,
   "id": "52057352",
   "metadata": {},
   "outputs": [
    {
     "data": {
      "text/plain": [
       "Loan_ID              0\n",
       "Gender               0\n",
       "Married              0\n",
       "Dependents           0\n",
       "Education            0\n",
       "Self_Employed        0\n",
       "ApplicantIncome      0\n",
       "CoapplicantIncome    0\n",
       "LoanAmount           0\n",
       "Loan_Amount_Term     0\n",
       "Credit_History       0\n",
       "Property_Area        0\n",
       "Loan_Status          0\n",
       "dtype: int64"
      ]
     },
     "execution_count": 10,
     "metadata": {},
     "output_type": "execute_result"
    }
   ],
   "source": [
    "cr.isnull().sum()"
   ]
  },
  {
   "cell_type": "markdown",
   "id": "7e14b646",
   "metadata": {},
   "source": [
    "### Statistical Summary :"
   ]
  },
  {
   "cell_type": "code",
   "execution_count": 11,
   "id": "d6d1f04a",
   "metadata": {},
   "outputs": [
    {
     "data": {
      "text/html": [
       "<div>\n",
       "<style scoped>\n",
       "    .dataframe tbody tr th:only-of-type {\n",
       "        vertical-align: middle;\n",
       "    }\n",
       "\n",
       "    .dataframe tbody tr th {\n",
       "        vertical-align: top;\n",
       "    }\n",
       "\n",
       "    .dataframe thead th {\n",
       "        text-align: right;\n",
       "    }\n",
       "</style>\n",
       "<table border=\"1\" class=\"dataframe\">\n",
       "  <thead>\n",
       "    <tr style=\"text-align: right;\">\n",
       "      <th></th>\n",
       "      <th>Dependents</th>\n",
       "      <th>ApplicantIncome</th>\n",
       "      <th>CoapplicantIncome</th>\n",
       "      <th>LoanAmount</th>\n",
       "      <th>Loan_Amount_Term</th>\n",
       "      <th>Credit_History</th>\n",
       "    </tr>\n",
       "  </thead>\n",
       "  <tbody>\n",
       "    <tr>\n",
       "      <th>count</th>\n",
       "      <td>981.000000</td>\n",
       "      <td>981.000000</td>\n",
       "      <td>981.000000</td>\n",
       "      <td>981.000000</td>\n",
       "      <td>981.000000</td>\n",
       "      <td>981.000000</td>\n",
       "    </tr>\n",
       "    <tr>\n",
       "      <th>mean</th>\n",
       "      <td>0.859327</td>\n",
       "      <td>5179.795107</td>\n",
       "      <td>1601.916330</td>\n",
       "      <td>142.057085</td>\n",
       "      <td>342.564730</td>\n",
       "      <td>0.768603</td>\n",
       "    </tr>\n",
       "    <tr>\n",
       "      <th>std</th>\n",
       "      <td>1.247278</td>\n",
       "      <td>5695.104533</td>\n",
       "      <td>2718.772806</td>\n",
       "      <td>76.395592</td>\n",
       "      <td>64.482011</td>\n",
       "      <td>0.421940</td>\n",
       "    </tr>\n",
       "    <tr>\n",
       "      <th>min</th>\n",
       "      <td>0.000000</td>\n",
       "      <td>0.000000</td>\n",
       "      <td>0.000000</td>\n",
       "      <td>9.000000</td>\n",
       "      <td>6.000000</td>\n",
       "      <td>0.000000</td>\n",
       "    </tr>\n",
       "    <tr>\n",
       "      <th>25%</th>\n",
       "      <td>0.000000</td>\n",
       "      <td>2875.000000</td>\n",
       "      <td>0.000000</td>\n",
       "      <td>101.000000</td>\n",
       "      <td>360.000000</td>\n",
       "      <td>1.000000</td>\n",
       "    </tr>\n",
       "    <tr>\n",
       "      <th>50%</th>\n",
       "      <td>0.000000</td>\n",
       "      <td>3800.000000</td>\n",
       "      <td>1110.000000</td>\n",
       "      <td>126.000000</td>\n",
       "      <td>360.000000</td>\n",
       "      <td>1.000000</td>\n",
       "    </tr>\n",
       "    <tr>\n",
       "      <th>75%</th>\n",
       "      <td>2.000000</td>\n",
       "      <td>5516.000000</td>\n",
       "      <td>2365.000000</td>\n",
       "      <td>160.000000</td>\n",
       "      <td>360.000000</td>\n",
       "      <td>1.000000</td>\n",
       "    </tr>\n",
       "    <tr>\n",
       "      <th>max</th>\n",
       "      <td>4.000000</td>\n",
       "      <td>81000.000000</td>\n",
       "      <td>41667.000000</td>\n",
       "      <td>700.000000</td>\n",
       "      <td>480.000000</td>\n",
       "      <td>1.000000</td>\n",
       "    </tr>\n",
       "  </tbody>\n",
       "</table>\n",
       "</div>"
      ],
      "text/plain": [
       "       Dependents  ApplicantIncome  CoapplicantIncome  LoanAmount  \\\n",
       "count  981.000000       981.000000         981.000000  981.000000   \n",
       "mean     0.859327      5179.795107        1601.916330  142.057085   \n",
       "std      1.247278      5695.104533        2718.772806   76.395592   \n",
       "min      0.000000         0.000000           0.000000    9.000000   \n",
       "25%      0.000000      2875.000000           0.000000  101.000000   \n",
       "50%      0.000000      3800.000000        1110.000000  126.000000   \n",
       "75%      2.000000      5516.000000        2365.000000  160.000000   \n",
       "max      4.000000     81000.000000       41667.000000  700.000000   \n",
       "\n",
       "       Loan_Amount_Term  Credit_History  \n",
       "count        981.000000      981.000000  \n",
       "mean         342.564730        0.768603  \n",
       "std           64.482011        0.421940  \n",
       "min            6.000000        0.000000  \n",
       "25%          360.000000        1.000000  \n",
       "50%          360.000000        1.000000  \n",
       "75%          360.000000        1.000000  \n",
       "max          480.000000        1.000000  "
      ]
     },
     "execution_count": 11,
     "metadata": {},
     "output_type": "execute_result"
    }
   ],
   "source": [
    "cr.describe() #Numerical Columns"
   ]
  },
  {
   "cell_type": "code",
   "execution_count": 12,
   "id": "57254b90",
   "metadata": {},
   "outputs": [
    {
     "data": {
      "text/html": [
       "<div>\n",
       "<style scoped>\n",
       "    .dataframe tbody tr th:only-of-type {\n",
       "        vertical-align: middle;\n",
       "    }\n",
       "\n",
       "    .dataframe tbody tr th {\n",
       "        vertical-align: top;\n",
       "    }\n",
       "\n",
       "    .dataframe thead th {\n",
       "        text-align: right;\n",
       "    }\n",
       "</style>\n",
       "<table border=\"1\" class=\"dataframe\">\n",
       "  <thead>\n",
       "    <tr style=\"text-align: right;\">\n",
       "      <th></th>\n",
       "      <th>Loan_ID</th>\n",
       "      <th>Gender</th>\n",
       "      <th>Married</th>\n",
       "      <th>Education</th>\n",
       "      <th>Self_Employed</th>\n",
       "      <th>Property_Area</th>\n",
       "      <th>Loan_Status</th>\n",
       "    </tr>\n",
       "  </thead>\n",
       "  <tbody>\n",
       "    <tr>\n",
       "      <th>count</th>\n",
       "      <td>981</td>\n",
       "      <td>981</td>\n",
       "      <td>981</td>\n",
       "      <td>981</td>\n",
       "      <td>981</td>\n",
       "      <td>981</td>\n",
       "      <td>981</td>\n",
       "    </tr>\n",
       "    <tr>\n",
       "      <th>unique</th>\n",
       "      <td>981</td>\n",
       "      <td>2</td>\n",
       "      <td>2</td>\n",
       "      <td>2</td>\n",
       "      <td>2</td>\n",
       "      <td>3</td>\n",
       "      <td>2</td>\n",
       "    </tr>\n",
       "    <tr>\n",
       "      <th>top</th>\n",
       "      <td>LP001002</td>\n",
       "      <td>Male</td>\n",
       "      <td>Yes</td>\n",
       "      <td>Graduate</td>\n",
       "      <td>No</td>\n",
       "      <td>Semiurban</td>\n",
       "      <td>Y</td>\n",
       "    </tr>\n",
       "    <tr>\n",
       "      <th>freq</th>\n",
       "      <td>1</td>\n",
       "      <td>799</td>\n",
       "      <td>634</td>\n",
       "      <td>763</td>\n",
       "      <td>862</td>\n",
       "      <td>349</td>\n",
       "      <td>712</td>\n",
       "    </tr>\n",
       "  </tbody>\n",
       "</table>\n",
       "</div>"
      ],
      "text/plain": [
       "         Loan_ID Gender Married Education Self_Employed Property_Area  \\\n",
       "count        981    981     981       981           981           981   \n",
       "unique       981      2       2         2             2             3   \n",
       "top     LP001002   Male     Yes  Graduate            No     Semiurban   \n",
       "freq           1    799     634       763           862           349   \n",
       "\n",
       "       Loan_Status  \n",
       "count          981  \n",
       "unique           2  \n",
       "top              Y  \n",
       "freq           712  "
      ]
     },
     "execution_count": 12,
     "metadata": {},
     "output_type": "execute_result"
    }
   ],
   "source": [
    "cr.describe(include ='object')"
   ]
  },
  {
   "cell_type": "code",
   "execution_count": 193,
   "id": "e446c675",
   "metadata": {},
   "outputs": [],
   "source": [
    "# convert all float datatype into int :\n",
    "cr['Dependents'] = cr['Dependents'].astype('int64')\n",
    "cr['LoanAmount'] = cr['LoanAmount'].astype('int64')\n",
    "cr['Loan_Amount_Term'] = cr['Loan_Amount_Term'].astype('int64')\n",
    "cr['Credit_History'] = cr['Credit_History'].astype('int64')\n",
    "cr['Loan_Status'] = cr['Loan_Status'].astype('int64')"
   ]
  },
  {
   "cell_type": "markdown",
   "id": "50e5e23b",
   "metadata": {},
   "source": [
    "# <font color =\"brown\" size = 6>**Exploratory Data Analysis (EDA):** </font>"
   ]
  },
  {
   "cell_type": "markdown",
   "id": "21bae333",
   "metadata": {},
   "source": [
    "### 1) Gender :"
   ]
  },
  {
   "cell_type": "code",
   "execution_count": 14,
   "id": "cca3910d",
   "metadata": {},
   "outputs": [
    {
     "name": "stdout",
     "output_type": "stream",
     "text": [
      "Number of People who apply for loan by Gender\n",
      "Male      799\n",
      "Female    182\n",
      "Name: Gender, dtype: int64\n"
     ]
    },
    {
     "data": {
      "image/png": "[encoded data removed]",
      "text/plain": [
       "<Figure size 640x480 with 1 Axes>"
      ]
     },
     "metadata": {},
     "output_type": "display_data"
    }
   ],
   "source": [
    "print(\"Number of People who apply for loan by Gender\")\n",
    "print(cr.Gender.value_counts())\n",
    "sns.countplot(x = 'Gender', data = cr, hue='Loan_Status');"
   ]
  },
  {
   "cell_type": "code",
   "execution_count": 15,
   "id": "f5075198",
   "metadata": {},
   "outputs": [
    {
     "data": {
      "text/html": [
       "<div>\n",
       "<style scoped>\n",
       "    .dataframe tbody tr th:only-of-type {\n",
       "        vertical-align: middle;\n",
       "    }\n",
       "\n",
       "    .dataframe tbody tr th {\n",
       "        vertical-align: top;\n",
       "    }\n",
       "\n",
       "    .dataframe thead th {\n",
       "        text-align: right;\n",
       "    }\n",
       "</style>\n",
       "<table border=\"1\" class=\"dataframe\">\n",
       "  <thead>\n",
       "    <tr style=\"text-align: right;\">\n",
       "      <th>Loan_Status</th>\n",
       "      <th>N</th>\n",
       "      <th>Y</th>\n",
       "    </tr>\n",
       "    <tr>\n",
       "      <th>Gender</th>\n",
       "      <th></th>\n",
       "      <th></th>\n",
       "    </tr>\n",
       "  </thead>\n",
       "  <tbody>\n",
       "    <tr>\n",
       "      <th>Female</th>\n",
       "      <td>55</td>\n",
       "      <td>127</td>\n",
       "    </tr>\n",
       "    <tr>\n",
       "      <th>Male</th>\n",
       "      <td>214</td>\n",
       "      <td>585</td>\n",
       "    </tr>\n",
       "  </tbody>\n",
       "</table>\n",
       "</div>"
      ],
      "text/plain": [
       "Loan_Status    N    Y\n",
       "Gender               \n",
       "Female        55  127\n",
       "Male         214  585"
      ]
     },
     "execution_count": 15,
     "metadata": {},
     "output_type": "execute_result"
    }
   ],
   "source": [
    "pd.crosstab(cr.Gender, cr.Loan_Status)"
   ]
  },
  {
   "cell_type": "markdown",
   "id": "6a6284b2",
   "metadata": {},
   "source": [
    "### 2) Married:"
   ]
  },
  {
   "cell_type": "code",
   "execution_count": 16,
   "id": "ca865d4d",
   "metadata": {},
   "outputs": [
    {
     "name": "stdout",
     "output_type": "stream",
     "text": [
      "Number of People who apply for loan by Married or Not\n",
      "Yes    634\n",
      "No     347\n",
      "Name: Married, dtype: int64\n"
     ]
    },
    {
     "data": {
      "image/png": "[encoded data removed]",
      "text/plain": [
       "<Figure size 640x480 with 1 Axes>"
      ]
     },
     "metadata": {},
     "output_type": "display_data"
    }
   ],
   "source": [
    "print(\"Number of People who apply for loan by Married or Not\")\n",
    "print(cr.Married.value_counts())\n",
    "sns.countplot(x ='Married',data = cr, hue='Loan_Status');"
   ]
  },
  {
   "cell_type": "code",
   "execution_count": 17,
   "id": "84ecfde6",
   "metadata": {},
   "outputs": [
    {
     "data": {
      "text/html": [
       "<div>\n",
       "<style scoped>\n",
       "    .dataframe tbody tr th:only-of-type {\n",
       "        vertical-align: middle;\n",
       "    }\n",
       "\n",
       "    .dataframe tbody tr th {\n",
       "        vertical-align: top;\n",
       "    }\n",
       "\n",
       "    .dataframe thead th {\n",
       "        text-align: right;\n",
       "    }\n",
       "</style>\n",
       "<table border=\"1\" class=\"dataframe\">\n",
       "  <thead>\n",
       "    <tr style=\"text-align: right;\">\n",
       "      <th>Loan_Status</th>\n",
       "      <th>N</th>\n",
       "      <th>Y</th>\n",
       "    </tr>\n",
       "    <tr>\n",
       "      <th>Married</th>\n",
       "      <th></th>\n",
       "      <th></th>\n",
       "    </tr>\n",
       "  </thead>\n",
       "  <tbody>\n",
       "    <tr>\n",
       "      <th>No</th>\n",
       "      <td>114</td>\n",
       "      <td>233</td>\n",
       "    </tr>\n",
       "    <tr>\n",
       "      <th>Yes</th>\n",
       "      <td>155</td>\n",
       "      <td>479</td>\n",
       "    </tr>\n",
       "  </tbody>\n",
       "</table>\n",
       "</div>"
      ],
      "text/plain": [
       "Loan_Status    N    Y\n",
       "Married              \n",
       "No           114  233\n",
       "Yes          155  479"
      ]
     },
     "execution_count": 17,
     "metadata": {},
     "output_type": "execute_result"
    }
   ],
   "source": [
    "pd.crosstab(cr.Married, cr.Loan_Status)"
   ]
  },
  {
   "cell_type": "markdown",
   "id": "0bcaa924",
   "metadata": {},
   "source": [
    "### 3) Eduaction :"
   ]
  },
  {
   "cell_type": "code",
   "execution_count": 18,
   "id": "2fb19aec",
   "metadata": {},
   "outputs": [
    {
     "name": "stdout",
     "output_type": "stream",
     "text": [
      "Number of People who apply for loan by Education\n",
      "Graduate        763\n",
      "Not Graduate    218\n",
      "Name: Education, dtype: int64\n"
     ]
    },
    {
     "data": {
      "image/png": "[encoded data removed]",
      "text/plain": [
       "<Figure size 640x480 with 1 Axes>"
      ]
     },
     "metadata": {},
     "output_type": "display_data"
    }
   ],
   "source": [
    "print(\"Number of People who apply for loan by Education\")\n",
    "print(cr.Education.value_counts())\n",
    "sns.countplot(x ='Education',data = cr, hue='Loan_Status');"
   ]
  },
  {
   "cell_type": "code",
   "execution_count": 19,
   "id": "a736bdb3",
   "metadata": {},
   "outputs": [
    {
     "data": {
      "text/html": [
       "<div>\n",
       "<style scoped>\n",
       "    .dataframe tbody tr th:only-of-type {\n",
       "        vertical-align: middle;\n",
       "    }\n",
       "\n",
       "    .dataframe tbody tr th {\n",
       "        vertical-align: top;\n",
       "    }\n",
       "\n",
       "    .dataframe thead th {\n",
       "        text-align: right;\n",
       "    }\n",
       "</style>\n",
       "<table border=\"1\" class=\"dataframe\">\n",
       "  <thead>\n",
       "    <tr style=\"text-align: right;\">\n",
       "      <th>Loan_Status</th>\n",
       "      <th>N</th>\n",
       "      <th>Y</th>\n",
       "    </tr>\n",
       "    <tr>\n",
       "      <th>Education</th>\n",
       "      <th></th>\n",
       "      <th></th>\n",
       "    </tr>\n",
       "  </thead>\n",
       "  <tbody>\n",
       "    <tr>\n",
       "      <th>Graduate</th>\n",
       "      <td>196</td>\n",
       "      <td>567</td>\n",
       "    </tr>\n",
       "    <tr>\n",
       "      <th>Not Graduate</th>\n",
       "      <td>73</td>\n",
       "      <td>145</td>\n",
       "    </tr>\n",
       "  </tbody>\n",
       "</table>\n",
       "</div>"
      ],
      "text/plain": [
       "Loan_Status     N    Y\n",
       "Education             \n",
       "Graduate      196  567\n",
       "Not Graduate   73  145"
      ]
     },
     "execution_count": 19,
     "metadata": {},
     "output_type": "execute_result"
    }
   ],
   "source": [
    "pd.crosstab(cr.Education, cr.Loan_Status)"
   ]
  },
  {
   "cell_type": "markdown",
   "id": "58dc64d2",
   "metadata": {},
   "source": [
    "### 4) Property_Area :"
   ]
  },
  {
   "cell_type": "code",
   "execution_count": 20,
   "id": "fba138bd",
   "metadata": {},
   "outputs": [
    {
     "name": "stdout",
     "output_type": "stream",
     "text": [
      "Number of People who apply for loan by Property Area\n",
      "Semiurban    349\n",
      "Urban        342\n",
      "Rural        290\n",
      "Name: Property_Area, dtype: int64\n"
     ]
    },
    {
     "data": {
      "image/png": "[encoded data removed]",
      "text/plain": [
       "<Figure size 640x480 with 1 Axes>"
      ]
     },
     "metadata": {},
     "output_type": "display_data"
    }
   ],
   "source": [
    "print(\"Number of People who apply for loan by Property Area\")\n",
    "print(cr.Property_Area.value_counts())\n",
    "sns.countplot(x ='Property_Area',data = cr, hue='Loan_Status');"
   ]
  },
  {
   "cell_type": "code",
   "execution_count": 21,
   "id": "0931fe59",
   "metadata": {},
   "outputs": [
    {
     "data": {
      "text/html": [
       "<div>\n",
       "<style scoped>\n",
       "    .dataframe tbody tr th:only-of-type {\n",
       "        vertical-align: middle;\n",
       "    }\n",
       "\n",
       "    .dataframe tbody tr th {\n",
       "        vertical-align: top;\n",
       "    }\n",
       "\n",
       "    .dataframe thead th {\n",
       "        text-align: right;\n",
       "    }\n",
       "</style>\n",
       "<table border=\"1\" class=\"dataframe\">\n",
       "  <thead>\n",
       "    <tr style=\"text-align: right;\">\n",
       "      <th>Loan_Status</th>\n",
       "      <th>N</th>\n",
       "      <th>Y</th>\n",
       "    </tr>\n",
       "    <tr>\n",
       "      <th>Property_Area</th>\n",
       "      <th></th>\n",
       "      <th></th>\n",
       "    </tr>\n",
       "  </thead>\n",
       "  <tbody>\n",
       "    <tr>\n",
       "      <th>Rural</th>\n",
       "      <td>103</td>\n",
       "      <td>187</td>\n",
       "    </tr>\n",
       "    <tr>\n",
       "      <th>Semiurban</th>\n",
       "      <td>76</td>\n",
       "      <td>273</td>\n",
       "    </tr>\n",
       "    <tr>\n",
       "      <th>Urban</th>\n",
       "      <td>90</td>\n",
       "      <td>252</td>\n",
       "    </tr>\n",
       "  </tbody>\n",
       "</table>\n",
       "</div>"
      ],
      "text/plain": [
       "Loan_Status      N    Y\n",
       "Property_Area          \n",
       "Rural          103  187\n",
       "Semiurban       76  273\n",
       "Urban           90  252"
      ]
     },
     "execution_count": 21,
     "metadata": {},
     "output_type": "execute_result"
    }
   ],
   "source": [
    "pd.crosstab(cr.Property_Area, cr.Loan_Status)"
   ]
  },
  {
   "cell_type": "markdown",
   "id": "16c4b0b0",
   "metadata": {},
   "source": [
    "### 5) Self_Employed :"
   ]
  },
  {
   "cell_type": "code",
   "execution_count": 22,
   "id": "058c546c",
   "metadata": {},
   "outputs": [
    {
     "name": "stdout",
     "output_type": "stream",
     "text": [
      "Number of People who apply for loan by Self_Employed\n",
      "No     862\n",
      "Yes    119\n",
      "Name: Self_Employed, dtype: int64\n"
     ]
    },
    {
     "data": {
      "text/plain": [
       "<Axes: xlabel='Self_Employed', ylabel='count'>"
      ]
     },
     "execution_count": 22,
     "metadata": {},
     "output_type": "execute_result"
    },
    {
     "data": {
      "image/png": "[encoded data removed]",
      "text/plain": [
       "<Figure size 640x480 with 1 Axes>"
      ]
     },
     "metadata": {},
     "output_type": "display_data"
    }
   ],
   "source": [
    "print(\"Number of People who apply for loan by Self_Employed\")\n",
    "print(cr.Self_Employed.value_counts())\n",
    "sns.countplot(x =cr['Self_Employed'],hue= cr['Loan_Status'])"
   ]
  },
  {
   "cell_type": "code",
   "execution_count": 23,
   "id": "e96fb70e",
   "metadata": {},
   "outputs": [
    {
     "data": {
      "text/html": [
       "<div>\n",
       "<style scoped>\n",
       "    .dataframe tbody tr th:only-of-type {\n",
       "        vertical-align: middle;\n",
       "    }\n",
       "\n",
       "    .dataframe tbody tr th {\n",
       "        vertical-align: top;\n",
       "    }\n",
       "\n",
       "    .dataframe thead th {\n",
       "        text-align: right;\n",
       "    }\n",
       "</style>\n",
       "<table border=\"1\" class=\"dataframe\">\n",
       "  <thead>\n",
       "    <tr style=\"text-align: right;\">\n",
       "      <th>Loan_Status</th>\n",
       "      <th>N</th>\n",
       "      <th>Y</th>\n",
       "    </tr>\n",
       "    <tr>\n",
       "      <th>Self_Employed</th>\n",
       "      <th></th>\n",
       "      <th></th>\n",
       "    </tr>\n",
       "  </thead>\n",
       "  <tbody>\n",
       "    <tr>\n",
       "      <th>No</th>\n",
       "      <td>241</td>\n",
       "      <td>621</td>\n",
       "    </tr>\n",
       "    <tr>\n",
       "      <th>Yes</th>\n",
       "      <td>28</td>\n",
       "      <td>91</td>\n",
       "    </tr>\n",
       "  </tbody>\n",
       "</table>\n",
       "</div>"
      ],
      "text/plain": [
       "Loan_Status      N    Y\n",
       "Self_Employed          \n",
       "No             241  621\n",
       "Yes             28   91"
      ]
     },
     "execution_count": 23,
     "metadata": {},
     "output_type": "execute_result"
    }
   ],
   "source": [
    "pd.crosstab(cr.Self_Employed, cr.Loan_Status)"
   ]
  },
  {
   "cell_type": "markdown",
   "id": "ad61c2e2",
   "metadata": {},
   "source": [
    "### 6) Credit_Histroy :"
   ]
  },
  {
   "cell_type": "code",
   "execution_count": 24,
   "id": "c36930d5",
   "metadata": {},
   "outputs": [
    {
     "name": "stdout",
     "output_type": "stream",
     "text": [
      "Number of People who apply for loan by Credit_Histroy\n",
      "1    754\n",
      "0    227\n",
      "Name: Credit_History, dtype: int64\n"
     ]
    },
    {
     "data": {
      "image/png": "[encoded data removed]",
      "text/plain": [
       "<Figure size 640x480 with 1 Axes>"
      ]
     },
     "metadata": {},
     "output_type": "display_data"
    }
   ],
   "source": [
    "print(\"Number of People who apply for loan by Credit_Histroy\")\n",
    "print(cr.Credit_History.value_counts())\n",
    "sns.countplot(x ='Credit_History',data = cr, hue='Loan_Status');"
   ]
  },
  {
   "cell_type": "code",
   "execution_count": 25,
   "id": "c6730ffe",
   "metadata": {},
   "outputs": [
    {
     "data": {
      "text/html": [
       "<div>\n",
       "<style scoped>\n",
       "    .dataframe tbody tr th:only-of-type {\n",
       "        vertical-align: middle;\n",
       "    }\n",
       "\n",
       "    .dataframe tbody tr th {\n",
       "        vertical-align: top;\n",
       "    }\n",
       "\n",
       "    .dataframe thead th {\n",
       "        text-align: right;\n",
       "    }\n",
       "</style>\n",
       "<table border=\"1\" class=\"dataframe\">\n",
       "  <thead>\n",
       "    <tr style=\"text-align: right;\">\n",
       "      <th>Loan_Status</th>\n",
       "      <th>N</th>\n",
       "      <th>Y</th>\n",
       "    </tr>\n",
       "    <tr>\n",
       "      <th>Credit_History</th>\n",
       "      <th></th>\n",
       "      <th></th>\n",
       "    </tr>\n",
       "  </thead>\n",
       "  <tbody>\n",
       "    <tr>\n",
       "      <th>0</th>\n",
       "      <td>155</td>\n",
       "      <td>72</td>\n",
       "    </tr>\n",
       "    <tr>\n",
       "      <th>1</th>\n",
       "      <td>114</td>\n",
       "      <td>640</td>\n",
       "    </tr>\n",
       "  </tbody>\n",
       "</table>\n",
       "</div>"
      ],
      "text/plain": [
       "Loan_Status       N    Y\n",
       "Credit_History          \n",
       "0               155   72\n",
       "1               114  640"
      ]
     },
     "execution_count": 25,
     "metadata": {},
     "output_type": "execute_result"
    }
   ],
   "source": [
    "pd.crosstab(cr.Credit_History, cr.Loan_Status)"
   ]
  },
  {
   "cell_type": "markdown",
   "id": "6411876c",
   "metadata": {},
   "source": [
    "### 7) Dependents :"
   ]
  },
  {
   "cell_type": "code",
   "execution_count": 26,
   "id": "8067cedf",
   "metadata": {},
   "outputs": [
    {
     "name": "stdout",
     "output_type": "stream",
     "text": [
      "Number of People who apply for loan by Dependents\n",
      "0    570\n",
      "1    160\n",
      "2    160\n",
      "4     90\n",
      "3      1\n",
      "Name: Dependents, dtype: int64\n"
     ]
    },
    {
     "data": {
      "image/png": "[encoded data removed]",
      "text/plain": [
       "<Figure size 640x480 with 1 Axes>"
      ]
     },
     "metadata": {},
     "output_type": "display_data"
    }
   ],
   "source": [
    "print(\"Number of People who apply for loan by Dependents\")\n",
    "print(cr.Dependents.value_counts())\n",
    "sns.countplot(x ='Dependents',data = cr, hue='Loan_Status');"
   ]
  },
  {
   "cell_type": "code",
   "execution_count": 27,
   "id": "11cb1382",
   "metadata": {},
   "outputs": [
    {
     "data": {
      "text/html": [
       "<div>\n",
       "<style scoped>\n",
       "    .dataframe tbody tr th:only-of-type {\n",
       "        vertical-align: middle;\n",
       "    }\n",
       "\n",
       "    .dataframe tbody tr th {\n",
       "        vertical-align: top;\n",
       "    }\n",
       "\n",
       "    .dataframe thead th {\n",
       "        text-align: right;\n",
       "    }\n",
       "</style>\n",
       "<table border=\"1\" class=\"dataframe\">\n",
       "  <thead>\n",
       "    <tr style=\"text-align: right;\">\n",
       "      <th>Loan_Status</th>\n",
       "      <th>N</th>\n",
       "      <th>Y</th>\n",
       "    </tr>\n",
       "    <tr>\n",
       "      <th>Dependents</th>\n",
       "      <th></th>\n",
       "      <th></th>\n",
       "    </tr>\n",
       "  </thead>\n",
       "  <tbody>\n",
       "    <tr>\n",
       "      <th>0</th>\n",
       "      <td>161</td>\n",
       "      <td>409</td>\n",
       "    </tr>\n",
       "    <tr>\n",
       "      <th>1</th>\n",
       "      <td>45</td>\n",
       "      <td>115</td>\n",
       "    </tr>\n",
       "    <tr>\n",
       "      <th>2</th>\n",
       "      <td>36</td>\n",
       "      <td>124</td>\n",
       "    </tr>\n",
       "    <tr>\n",
       "      <th>3</th>\n",
       "      <td>0</td>\n",
       "      <td>1</td>\n",
       "    </tr>\n",
       "    <tr>\n",
       "      <th>4</th>\n",
       "      <td>27</td>\n",
       "      <td>63</td>\n",
       "    </tr>\n",
       "  </tbody>\n",
       "</table>\n",
       "</div>"
      ],
      "text/plain": [
       "Loan_Status    N    Y\n",
       "Dependents           \n",
       "0            161  409\n",
       "1             45  115\n",
       "2             36  124\n",
       "3              0    1\n",
       "4             27   63"
      ]
     },
     "execution_count": 27,
     "metadata": {},
     "output_type": "execute_result"
    }
   ],
   "source": [
    "pd.crosstab(cr.Dependents, cr.Loan_Status)"
   ]
  },
  {
   "cell_type": "code",
   "execution_count": 28,
   "id": "03f2bd67",
   "metadata": {},
   "outputs": [],
   "source": [
    "#Finding the correlation between features."
   ]
  },
  {
   "cell_type": "code",
   "execution_count": 29,
   "id": "9ee600b7",
   "metadata": {},
   "outputs": [
    {
     "data": {
      "text/plain": [
       "<Axes: >"
      ]
     },
     "execution_count": 29,
     "metadata": {},
     "output_type": "execute_result"
    },
    {
     "data": {
      "image/png": "[encoded data removed]",
      "text/plain": [
       "<Figure size 800x800 with 2 Axes>"
      ]
     },
     "metadata": {},
     "output_type": "display_data"
    }
   ],
   "source": [
    "corr = cr.corr()\n",
    "plt.figure(figsize=(8,8))\n",
    "sns.heatmap(corr,annot=True,  linecolor='black', linewidths=2)"
   ]
  },
  {
   "cell_type": "code",
   "execution_count": 30,
   "id": "44ff7585",
   "metadata": {},
   "outputs": [
    {
     "data": {
      "text/html": [
       "<div>\n",
       "<style scoped>\n",
       "    .dataframe tbody tr th:only-of-type {\n",
       "        vertical-align: middle;\n",
       "    }\n",
       "\n",
       "    .dataframe tbody tr th {\n",
       "        vertical-align: top;\n",
       "    }\n",
       "\n",
       "    .dataframe thead th {\n",
       "        text-align: right;\n",
       "    }\n",
       "</style>\n",
       "<table border=\"1\" class=\"dataframe\">\n",
       "  <thead>\n",
       "    <tr style=\"text-align: right;\">\n",
       "      <th></th>\n",
       "      <th>Dependents</th>\n",
       "      <th>ApplicantIncome</th>\n",
       "      <th>CoapplicantIncome</th>\n",
       "      <th>LoanAmount</th>\n",
       "      <th>Loan_Amount_Term</th>\n",
       "      <th>Credit_History</th>\n",
       "    </tr>\n",
       "  </thead>\n",
       "  <tbody>\n",
       "    <tr>\n",
       "      <th>Dependents</th>\n",
       "      <td>1.000000</td>\n",
       "      <td>0.136293</td>\n",
       "      <td>0.000443</td>\n",
       "      <td>0.150972</td>\n",
       "      <td>-0.086199</td>\n",
       "      <td>-0.040587</td>\n",
       "    </tr>\n",
       "    <tr>\n",
       "      <th>ApplicantIncome</th>\n",
       "      <td>0.136293</td>\n",
       "      <td>1.000000</td>\n",
       "      <td>-0.114247</td>\n",
       "      <td>0.546241</td>\n",
       "      <td>-0.023823</td>\n",
       "      <td>0.029453</td>\n",
       "    </tr>\n",
       "    <tr>\n",
       "      <th>CoapplicantIncome</th>\n",
       "      <td>0.000443</td>\n",
       "      <td>-0.114247</td>\n",
       "      <td>1.000000</td>\n",
       "      <td>0.179327</td>\n",
       "      <td>-0.042750</td>\n",
       "      <td>-0.068562</td>\n",
       "    </tr>\n",
       "    <tr>\n",
       "      <th>LoanAmount</th>\n",
       "      <td>0.150972</td>\n",
       "      <td>0.546241</td>\n",
       "      <td>0.179327</td>\n",
       "      <td>1.000000</td>\n",
       "      <td>0.052775</td>\n",
       "      <td>-0.023300</td>\n",
       "    </tr>\n",
       "    <tr>\n",
       "      <th>Loan_Amount_Term</th>\n",
       "      <td>-0.086199</td>\n",
       "      <td>-0.023823</td>\n",
       "      <td>-0.042750</td>\n",
       "      <td>0.052775</td>\n",
       "      <td>1.000000</td>\n",
       "      <td>-0.021745</td>\n",
       "    </tr>\n",
       "    <tr>\n",
       "      <th>Credit_History</th>\n",
       "      <td>-0.040587</td>\n",
       "      <td>0.029453</td>\n",
       "      <td>-0.068562</td>\n",
       "      <td>-0.023300</td>\n",
       "      <td>-0.021745</td>\n",
       "      <td>1.000000</td>\n",
       "    </tr>\n",
       "  </tbody>\n",
       "</table>\n",
       "</div>"
      ],
      "text/plain": [
       "                   Dependents  ApplicantIncome  CoapplicantIncome  LoanAmount  \\\n",
       "Dependents           1.000000         0.136293           0.000443    0.150972   \n",
       "ApplicantIncome      0.136293         1.000000          -0.114247    0.546241   \n",
       "CoapplicantIncome    0.000443        -0.114247           1.000000    0.179327   \n",
       "LoanAmount           0.150972         0.546241           0.179327    1.000000   \n",
       "Loan_Amount_Term    -0.086199        -0.023823          -0.042750    0.052775   \n",
       "Credit_History      -0.040587         0.029453          -0.068562   -0.023300   \n",
       "\n",
       "                   Loan_Amount_Term  Credit_History  \n",
       "Dependents                -0.086199       -0.040587  \n",
       "ApplicantIncome           -0.023823        0.029453  \n",
       "CoapplicantIncome         -0.042750       -0.068562  \n",
       "LoanAmount                 0.052775       -0.023300  \n",
       "Loan_Amount_Term           1.000000       -0.021745  \n",
       "Credit_History            -0.021745        1.000000  "
      ]
     },
     "execution_count": 30,
     "metadata": {},
     "output_type": "execute_result"
    }
   ],
   "source": [
    "cr.corr()"
   ]
  },
  {
   "cell_type": "code",
   "execution_count": 31,
   "id": "6528fbab",
   "metadata": {},
   "outputs": [],
   "source": [
    "cr['Total_Income'] = cr.ApplicantIncome + cr.CoapplicantIncome # in coapplicantIncome column many values are zeros so we can combined them."
   ]
  },
  {
   "cell_type": "markdown",
   "id": "f2a78a19",
   "metadata": {},
   "source": [
    "### Drop the Columns which are unnecessary  "
   ]
  },
  {
   "cell_type": "code",
   "execution_count": 32,
   "id": "9168209c",
   "metadata": {},
   "outputs": [],
   "source": [
    "cr = cr.drop({'Loan_ID','CoapplicantIncome'},axis=1)"
   ]
  },
  {
   "cell_type": "code",
   "execution_count": 33,
   "id": "f19ad6ab",
   "metadata": {},
   "outputs": [
    {
     "name": "stdout",
     "output_type": "stream",
     "text": [
      "<class 'pandas.core.frame.DataFrame'>\n",
      "RangeIndex: 981 entries, 0 to 980\n",
      "Data columns (total 12 columns):\n",
      " #   Column            Non-Null Count  Dtype  \n",
      "---  ------            --------------  -----  \n",
      " 0   Gender            981 non-null    object \n",
      " 1   Married           981 non-null    object \n",
      " 2   Dependents        981 non-null    int64  \n",
      " 3   Education         981 non-null    object \n",
      " 4   Self_Employed     981 non-null    object \n",
      " 5   ApplicantIncome   981 non-null    int64  \n",
      " 6   LoanAmount        981 non-null    int64  \n",
      " 7   Loan_Amount_Term  981 non-null    int64  \n",
      " 8   Credit_History    981 non-null    int64  \n",
      " 9   Property_Area     981 non-null    object \n",
      " 10  Loan_Status       981 non-null    object \n",
      " 11  Total_Income      981 non-null    float64\n",
      "dtypes: float64(1), int64(5), object(6)\n",
      "memory usage: 92.1+ KB\n"
     ]
    }
   ],
   "source": [
    "cr.info()"
   ]
  },
  {
   "cell_type": "markdown",
   "id": "7834f46d",
   "metadata": {},
   "source": [
    "### Label Encoding"
   ]
  },
  {
   "cell_type": "code",
   "execution_count": 34,
   "id": "f18727b6",
   "metadata": {},
   "outputs": [],
   "source": [
    "from sklearn.preprocessing import LabelEncoder\n",
    "le = LabelEncoder()\n",
    "\n",
    "cr.Gender = le.fit_transform(cr.Gender)\n",
    "cr.Married = le.fit_transform(cr.Married)\n",
    "cr.Education = le.fit_transform(cr.Education)\n",
    "cr.Self_Employed = le.fit_transform(cr.Self_Employed)\n",
    "cr.Property_Area = le.fit_transform(cr.Property_Area)\n",
    "cr.Loan_Status = le.fit_transform(cr.Loan_Status)"
   ]
  },
  {
   "cell_type": "code",
   "execution_count": 35,
   "id": "3b8b78c7",
   "metadata": {
    "scrolled": true
   },
   "outputs": [
    {
     "name": "stdout",
     "output_type": "stream",
     "text": [
      "<class 'pandas.core.frame.DataFrame'>\n",
      "RangeIndex: 981 entries, 0 to 980\n",
      "Data columns (total 12 columns):\n",
      " #   Column            Non-Null Count  Dtype  \n",
      "---  ------            --------------  -----  \n",
      " 0   Gender            981 non-null    int32  \n",
      " 1   Married           981 non-null    int32  \n",
      " 2   Dependents        981 non-null    int64  \n",
      " 3   Education         981 non-null    int32  \n",
      " 4   Self_Employed     981 non-null    int32  \n",
      " 5   ApplicantIncome   981 non-null    int64  \n",
      " 6   LoanAmount        981 non-null    int64  \n",
      " 7   Loan_Amount_Term  981 non-null    int64  \n",
      " 8   Credit_History    981 non-null    int64  \n",
      " 9   Property_Area     981 non-null    int32  \n",
      " 10  Loan_Status       981 non-null    int32  \n",
      " 11  Total_Income      981 non-null    float64\n",
      "dtypes: float64(1), int32(6), int64(5)\n",
      "memory usage: 69.1 KB\n"
     ]
    }
   ],
   "source": [
    "cr.info()"
   ]
  },
  {
   "cell_type": "markdown",
   "id": "20eceff8",
   "metadata": {},
   "source": [
    "### Checking outliers present in features :"
   ]
  },
  {
   "cell_type": "code",
   "execution_count": 36,
   "id": "a9929d29",
   "metadata": {},
   "outputs": [
    {
     "data": {
      "text/plain": [
       "<Axes: >"
      ]
     },
     "execution_count": 36,
     "metadata": {},
     "output_type": "execute_result"
    },
    {
     "data": {
      "image/png": "[encoded data removed]",
      "text/plain": [
       "<Figure size 1800x500 with 1 Axes>"
      ]
     },
     "metadata": {},
     "output_type": "display_data"
    }
   ],
   "source": [
    "plt.figure(figsize=(18,5))\n",
    "\n",
    "sns.boxplot(data = cr)"
   ]
  },
  {
   "cell_type": "code",
   "execution_count": 37,
   "id": "e2aab005",
   "metadata": {},
   "outputs": [
    {
     "data": {
      "image/png": "[encoded data removed]",
      "text/plain": [
       "<Figure size 2000x1500 with 3 Axes>"
      ]
     },
     "metadata": {},
     "output_type": "display_data"
    }
   ],
   "source": [
    "plt.figure(figsize=(20, 15))\n",
    "plt.suptitle('Features before outliers removing', fontsize=20, fontweight='bold', alpha=0.8, y=1.0)\n",
    "\n",
    "columns = ['ApplicantIncome','LoanAmount','Total_Income']\n",
    "for i in range(0, len(columns)):\n",
    "    plt.subplot(2,2, i+1)\n",
    "    sns.distplot(cr[columns[i]])\n",
    "    plt.xlabel(columns[i])\n",
    "    plt.xticks(rotation=45)\n",
    "    plt.tight_layout()"
   ]
  },
  {
   "cell_type": "code",
   "execution_count": 38,
   "id": "ae23da6f",
   "metadata": {},
   "outputs": [],
   "source": [
    "cr1 = cr    # MAKING COPY OF DATASET"
   ]
  },
  {
   "cell_type": "markdown",
   "id": "3dd4f00d",
   "metadata": {},
   "source": [
    "### Detecting and removing outliers using IQR"
   ]
  },
  {
   "cell_type": "code",
   "execution_count": 47,
   "id": "20be204b",
   "metadata": {},
   "outputs": [
    {
     "name": "stdout",
     "output_type": "stream",
     "text": [
      "Total numner of rows & columns before removing outliers (981, 12)\n",
      "Total numner of rows & columns after removing outliers (747, 12)\n"
     ]
    }
   ],
   "source": [
    "outliers_columns = ['ApplicantIncome','LoanAmount','Total_Income']\n",
    "\n",
    "for i in outliers_columns:\n",
    "    Q1 = cr[i].quantile(0.25)\n",
    "    Q3 = cr[i].quantile(0.75)\n",
    "    IQR = Q3 - Q1\n",
    "    cr = cr[~((cr[i] < (Q1 - 1.5 * IQR)) | (cr[i] > (Q3 + 1.5 * IQR)))]\n",
    "\n",
    "print(\"Total numner of rows & columns before removing outliers\",cr1.shape)\n",
    "print(\"Total numner of rows & columns after removing outliers\",cr.shape)"
   ]
  },
  {
   "cell_type": "code",
   "execution_count": 48,
   "id": "0958c957",
   "metadata": {},
   "outputs": [
    {
     "data": {
      "text/plain": [
       "<Axes: >"
      ]
     },
     "execution_count": 48,
     "metadata": {},
     "output_type": "execute_result"
    },
    {
     "data": {
      "image/png": "[encoded data removed]",
      "text/plain": [
       "<Figure size 1600x800 with 1 Axes>"
      ]
     },
     "metadata": {},
     "output_type": "display_data"
    }
   ],
   "source": [
    "# after removing outliers :\n",
    "plt.figure(figsize=(16,8))\n",
    "sns.boxplot(data=cr)"
   ]
  },
  {
   "cell_type": "code",
   "execution_count": 49,
   "id": "81b9bd17",
   "metadata": {},
   "outputs": [
    {
     "data": {
      "image/png": "[encoded data removed]",
      "text/plain": [
       "<Figure size 2000x1500 with 3 Axes>"
      ]
     },
     "metadata": {},
     "output_type": "display_data"
    }
   ],
   "source": [
    "plt.figure(figsize=(20, 15))\n",
    "plt.suptitle('Features after outliers removing', fontsize=20, fontweight='bold', alpha=0.8, y=1.0)\n",
    "\n",
    "columns = ['ApplicantIncome','LoanAmount','Total_Income']\n",
    "for i in range(0, len(columns)):\n",
    "    plt.subplot(2, 2, i+1)\n",
    "    sns.distplot(cr[columns[i]])\n",
    "    plt.xlabel(columns[i])\n",
    "    plt.xticks(rotation=45)\n",
    "    plt.tight_layout()"
   ]
  },
  {
   "cell_type": "code",
   "execution_count": 50,
   "id": "53ea2b2b",
   "metadata": {},
   "outputs": [],
   "source": [
    "# Split data into Dependent and Independent variables:\n",
    "X = cr.drop({'Loan_Status'},axis=1)\n",
    "y = cr.Loan_Status"
   ]
  },
  {
   "cell_type": "markdown",
   "id": "c7ca66e4",
   "metadata": {},
   "source": [
    "# <font color =\"brown\" size = 6> **Data Transformation:** </font>"
   ]
  },
  {
   "cell_type": "code",
   "execution_count": 51,
   "id": "29935a95",
   "metadata": {},
   "outputs": [
    {
     "data": {
      "text/plain": [
       "array([[ 0.49497475, -1.29886503, -0.65726319, ...,  0.57786553,\n",
       "         1.19083998,  0.68133331],\n",
       "       [ 0.49497475,  0.76990294,  0.16790589, ...,  0.57786553,\n",
       "        -1.32558849,  0.85435759],\n",
       "       [ 0.49497475,  0.76990294, -0.65726319, ...,  0.57786553,\n",
       "         1.19083998, -1.35563436],\n",
       "       ...,\n",
       "       [ 0.49497475, -1.29886503, -0.65726319, ..., -1.7305064 ,\n",
       "        -0.06737426,  0.24805763],\n",
       "       [ 0.49497475,  0.76990294, -0.65726319, ...,  0.57786553,\n",
       "        -1.32558849,  1.78525683],\n",
       "       [-2.02030509, -1.29886503, -0.65726319, ..., -1.7305064 ,\n",
       "        -0.06737426, -0.22382677]])"
      ]
     },
     "execution_count": 51,
     "metadata": {},
     "output_type": "execute_result"
    }
   ],
   "source": [
    "#using Standardization : in which mean is 0 and std is 1\n",
    "from sklearn.preprocessing import StandardScaler\n",
    "scaler = StandardScaler()\n",
    "X_scaled = scaler.fit_transform(X)\n",
    "X_scaled"
   ]
  },
  {
   "cell_type": "code",
   "execution_count": 52,
   "id": "8672f735",
   "metadata": {},
   "outputs": [],
   "source": [
    "#Data after standardization "
   ]
  },
  {
   "cell_type": "code",
   "execution_count": 53,
   "id": "3cc75c67",
   "metadata": {},
   "outputs": [
    {
     "data": {
      "text/html": [
       "<div>\n",
       "<style scoped>\n",
       "    .dataframe tbody tr th:only-of-type {\n",
       "        vertical-align: middle;\n",
       "    }\n",
       "\n",
       "    .dataframe tbody tr th {\n",
       "        vertical-align: top;\n",
       "    }\n",
       "\n",
       "    .dataframe thead th {\n",
       "        text-align: right;\n",
       "    }\n",
       "</style>\n",
       "<table border=\"1\" class=\"dataframe\">\n",
       "  <thead>\n",
       "    <tr style=\"text-align: right;\">\n",
       "      <th></th>\n",
       "      <th>Gender</th>\n",
       "      <th>Married</th>\n",
       "      <th>Dependents</th>\n",
       "      <th>Education</th>\n",
       "      <th>Self_Employed</th>\n",
       "      <th>ApplicantIncome</th>\n",
       "      <th>LoanAmount</th>\n",
       "      <th>Loan_Amount_Term</th>\n",
       "      <th>Credit_History</th>\n",
       "      <th>Property_Area</th>\n",
       "      <th>Total_Income</th>\n",
       "    </tr>\n",
       "  </thead>\n",
       "  <tbody>\n",
       "    <tr>\n",
       "      <th>0</th>\n",
       "      <td>0.494975</td>\n",
       "      <td>-1.298865</td>\n",
       "      <td>-0.657263</td>\n",
       "      <td>-0.600546</td>\n",
       "      <td>-0.308720</td>\n",
       "      <td>1.835929</td>\n",
       "      <td>0.177260</td>\n",
       "      <td>0.238148</td>\n",
       "      <td>0.577866</td>\n",
       "      <td>1.190840</td>\n",
       "      <td>0.681333</td>\n",
       "    </tr>\n",
       "    <tr>\n",
       "      <th>1</th>\n",
       "      <td>0.494975</td>\n",
       "      <td>0.769903</td>\n",
       "      <td>0.167906</td>\n",
       "      <td>-0.600546</td>\n",
       "      <td>-0.308720</td>\n",
       "      <td>0.805221</td>\n",
       "      <td>0.235901</td>\n",
       "      <td>0.238148</td>\n",
       "      <td>0.577866</td>\n",
       "      <td>-1.325588</td>\n",
       "      <td>0.854358</td>\n",
       "    </tr>\n",
       "    <tr>\n",
       "      <th>2</th>\n",
       "      <td>0.494975</td>\n",
       "      <td>0.769903</td>\n",
       "      <td>-0.657263</td>\n",
       "      <td>-0.600546</td>\n",
       "      <td>3.239183</td>\n",
       "      <td>-0.483572</td>\n",
       "      <td>-1.581990</td>\n",
       "      <td>0.238148</td>\n",
       "      <td>0.577866</td>\n",
       "      <td>1.190840</td>\n",
       "      <td>-1.355634</td>\n",
       "    </tr>\n",
       "    <tr>\n",
       "      <th>3</th>\n",
       "      <td>0.494975</td>\n",
       "      <td>0.769903</td>\n",
       "      <td>-0.657263</td>\n",
       "      <td>1.665151</td>\n",
       "      <td>-0.308720</td>\n",
       "      <td>-0.823071</td>\n",
       "      <td>0.001335</td>\n",
       "      <td>0.238148</td>\n",
       "      <td>0.577866</td>\n",
       "      <td>1.190840</td>\n",
       "      <td>0.032135</td>\n",
       "    </tr>\n",
       "    <tr>\n",
       "      <th>4</th>\n",
       "      <td>0.494975</td>\n",
       "      <td>-1.298865</td>\n",
       "      <td>-0.657263</td>\n",
       "      <td>-0.600546</td>\n",
       "      <td>-0.308720</td>\n",
       "      <td>1.958865</td>\n",
       "      <td>0.617072</td>\n",
       "      <td>0.238148</td>\n",
       "      <td>0.577866</td>\n",
       "      <td>1.190840</td>\n",
       "      <td>0.789295</td>\n",
       "    </tr>\n",
       "    <tr>\n",
       "      <th>...</th>\n",
       "      <td>...</td>\n",
       "      <td>...</td>\n",
       "      <td>...</td>\n",
       "      <td>...</td>\n",
       "      <td>...</td>\n",
       "      <td>...</td>\n",
       "      <td>...</td>\n",
       "      <td>...</td>\n",
       "      <td>...</td>\n",
       "      <td>...</td>\n",
       "      <td>...</td>\n",
       "    </tr>\n",
       "    <tr>\n",
       "      <th>742</th>\n",
       "      <td>-2.020305</td>\n",
       "      <td>-1.298865</td>\n",
       "      <td>-0.657263</td>\n",
       "      <td>-0.600546</td>\n",
       "      <td>-0.308720</td>\n",
       "      <td>-0.564987</td>\n",
       "      <td>-1.435386</td>\n",
       "      <td>0.238148</td>\n",
       "      <td>0.577866</td>\n",
       "      <td>-1.325588</td>\n",
       "      <td>-1.427132</td>\n",
       "    </tr>\n",
       "    <tr>\n",
       "      <th>743</th>\n",
       "      <td>0.494975</td>\n",
       "      <td>0.769903</td>\n",
       "      <td>2.643413</td>\n",
       "      <td>-0.600546</td>\n",
       "      <td>-0.308720</td>\n",
       "      <td>0.416873</td>\n",
       "      <td>-2.344332</td>\n",
       "      <td>-2.596605</td>\n",
       "      <td>0.577866</td>\n",
       "      <td>-1.325588</td>\n",
       "      <td>-0.564870</td>\n",
       "    </tr>\n",
       "    <tr>\n",
       "      <th>744</th>\n",
       "      <td>0.494975</td>\n",
       "      <td>-1.298865</td>\n",
       "      <td>-0.657263</td>\n",
       "      <td>-0.600546</td>\n",
       "      <td>-0.308720</td>\n",
       "      <td>-0.280036</td>\n",
       "      <td>0.177260</td>\n",
       "      <td>0.238148</td>\n",
       "      <td>-1.730506</td>\n",
       "      <td>-0.067374</td>\n",
       "      <td>0.248058</td>\n",
       "    </tr>\n",
       "    <tr>\n",
       "      <th>745</th>\n",
       "      <td>0.494975</td>\n",
       "      <td>0.769903</td>\n",
       "      <td>-0.657263</td>\n",
       "      <td>-0.600546</td>\n",
       "      <td>-0.308720</td>\n",
       "      <td>1.144720</td>\n",
       "      <td>1.115526</td>\n",
       "      <td>0.238148</td>\n",
       "      <td>0.577866</td>\n",
       "      <td>-1.325588</td>\n",
       "      <td>1.785257</td>\n",
       "    </tr>\n",
       "    <tr>\n",
       "      <th>746</th>\n",
       "      <td>-2.020305</td>\n",
       "      <td>-1.298865</td>\n",
       "      <td>-0.657263</td>\n",
       "      <td>-0.600546</td>\n",
       "      <td>3.239183</td>\n",
       "      <td>0.805221</td>\n",
       "      <td>0.382505</td>\n",
       "      <td>0.238148</td>\n",
       "      <td>-1.730506</td>\n",
       "      <td>-0.067374</td>\n",
       "      <td>-0.223827</td>\n",
       "    </tr>\n",
       "  </tbody>\n",
       "</table>\n",
       "<p>747 rows × 11 columns</p>\n",
       "</div>"
      ],
      "text/plain": [
       "       Gender   Married  Dependents  Education  Self_Employed  \\\n",
       "0    0.494975 -1.298865   -0.657263  -0.600546      -0.308720   \n",
       "1    0.494975  0.769903    0.167906  -0.600546      -0.308720   \n",
       "2    0.494975  0.769903   -0.657263  -0.600546       3.239183   \n",
       "3    0.494975  0.769903   -0.657263   1.665151      -0.308720   \n",
       "4    0.494975 -1.298865   -0.657263  -0.600546      -0.308720   \n",
       "..        ...       ...         ...        ...            ...   \n",
       "742 -2.020305 -1.298865   -0.657263  -0.600546      -0.308720   \n",
       "743  0.494975  0.769903    2.643413  -0.600546      -0.308720   \n",
       "744  0.494975 -1.298865   -0.657263  -0.600546      -0.308720   \n",
       "745  0.494975  0.769903   -0.657263  -0.600546      -0.308720   \n",
       "746 -2.020305 -1.298865   -0.657263  -0.600546       3.239183   \n",
       "\n",
       "     ApplicantIncome  LoanAmount  Loan_Amount_Term  Credit_History  \\\n",
       "0           1.835929    0.177260          0.238148        0.577866   \n",
       "1           0.805221    0.235901          0.238148        0.577866   \n",
       "2          -0.483572   -1.581990          0.238148        0.577866   \n",
       "3          -0.823071    0.001335          0.238148        0.577866   \n",
       "4           1.958865    0.617072          0.238148        0.577866   \n",
       "..               ...         ...               ...             ...   \n",
       "742        -0.564987   -1.435386          0.238148        0.577866   \n",
       "743         0.416873   -2.344332         -2.596605        0.577866   \n",
       "744        -0.280036    0.177260          0.238148       -1.730506   \n",
       "745         1.144720    1.115526          0.238148        0.577866   \n",
       "746         0.805221    0.382505          0.238148       -1.730506   \n",
       "\n",
       "     Property_Area  Total_Income  \n",
       "0         1.190840      0.681333  \n",
       "1        -1.325588      0.854358  \n",
       "2         1.190840     -1.355634  \n",
       "3         1.190840      0.032135  \n",
       "4         1.190840      0.789295  \n",
       "..             ...           ...  \n",
       "742      -1.325588     -1.427132  \n",
       "743      -1.325588     -0.564870  \n",
       "744      -0.067374      0.248058  \n",
       "745      -1.325588      1.785257  \n",
       "746      -0.067374     -0.223827  \n",
       "\n",
       "[747 rows x 11 columns]"
      ]
     },
     "execution_count": 53,
     "metadata": {},
     "output_type": "execute_result"
    }
   ],
   "source": [
    "df_scaled =pd.DataFrame(X_scaled)\n",
    "df_scaled.columns = X.columns\n",
    "df_scaled"
   ]
  },
  {
   "cell_type": "markdown",
   "id": "dd625141",
   "metadata": {},
   "source": [
    "# <font color =\"Brown\" size = 6>**Model Buidling & Evaluation :** </font>"
   ]
  },
  {
   "cell_type": "code",
   "execution_count": 54,
   "id": "f6dd12de",
   "metadata": {},
   "outputs": [],
   "source": [
    "# Import libraries for model building and Evaluation:\n",
    "\n",
    "from sklearn.linear_model import LogisticRegression\n",
    "from sklearn.tree import DecisionTreeClassifier\n",
    "from sklearn.ensemble import RandomForestClassifier\n",
    "from sklearn.neighbors import KNeighborsClassifier\n",
    "from sklearn.svm import SVC\n",
    "from sklearn.model_selection import cross_val_score, train_test_split\n",
    "from sklearn.metrics import accuracy_score, confusion_matrix, classification_report"
   ]
  },
  {
   "cell_type": "markdown",
   "id": "003a3dca",
   "metadata": {},
   "source": [
    "### Random sampling:"
   ]
  },
  {
   "cell_type": "code",
   "execution_count": 55,
   "id": "5201bc1e",
   "metadata": {},
   "outputs": [],
   "source": [
    "X_train, X_test, y_train, y_test = train_test_split(df_scaled, y, test_size=0.25, random_state=1999)"
   ]
  },
  {
   "cell_type": "code",
   "execution_count": 56,
   "id": "8e3032d2",
   "metadata": {},
   "outputs": [
    {
     "data": {
      "text/plain": [
       "(560, 11)"
      ]
     },
     "execution_count": 56,
     "metadata": {},
     "output_type": "execute_result"
    }
   ],
   "source": [
    "X_train.shape"
   ]
  },
  {
   "cell_type": "code",
   "execution_count": 57,
   "id": "cf84cef4",
   "metadata": {},
   "outputs": [
    {
     "data": {
      "text/plain": [
       "(187, 11)"
      ]
     },
     "execution_count": 57,
     "metadata": {},
     "output_type": "execute_result"
    }
   ],
   "source": [
    "X_test.shape"
   ]
  },
  {
   "cell_type": "markdown",
   "id": "b4f5208e",
   "metadata": {},
   "source": [
    "## <font color = \"Orange\"> **Build Logistic Regression Model**</font>"
   ]
  },
  {
   "cell_type": "code",
   "execution_count": 58,
   "id": "4dfe772f",
   "metadata": {},
   "outputs": [
    {
     "name": "stdout",
     "output_type": "stream",
     "text": [
      "Accuracy score of Logistic Regression Model on Test Data: 83.96\n",
      "Accuracy score of Logistic Regression Model on Train Data: 80.89\n"
     ]
    }
   ],
   "source": [
    "logreg = LogisticRegression(random_state=12)\n",
    "logreg.fit(X_train,y_train)\n",
    "pred_logreg = logreg.predict(X_test)\n",
    "accu = accuracy_score(y_test,pred_logreg)\n",
    "print(\"Accuracy score of Logistic Regression Model on Test Data:\",(accu*100).round(2))\n",
    "\n",
    "pred_logreg_train = logreg.predict(X_train)\n",
    "accu = accuracy_score(y_train,pred_logreg_train)\n",
    "print(\"Accuracy score of Logistic Regression Model on Train Data:\",(accu*100).round(2))"
   ]
  },
  {
   "cell_type": "code",
   "execution_count": 59,
   "id": "f2510327",
   "metadata": {},
   "outputs": [
    {
     "data": {
      "text/plain": [
       "array([[ 24,  23],\n",
       "       [  7, 133]], dtype=int64)"
      ]
     },
     "execution_count": 59,
     "metadata": {},
     "output_type": "execute_result"
    }
   ],
   "source": [
    "confusion_matrix(y_test,pred_logreg)"
   ]
  },
  {
   "cell_type": "code",
   "execution_count": 60,
   "id": "69064dbb",
   "metadata": {},
   "outputs": [
    {
     "name": "stdout",
     "output_type": "stream",
     "text": [
      "Cross Validation Score of Logistic Regression Model: 80.0\n"
     ]
    }
   ],
   "source": [
    "score_logreg = cross_val_score(logreg,X_train,y_train, cv=5)\n",
    "print(\"Cross Validation Score of Logistic Regression Model:\",(score_logreg.mean()*100).round(2))"
   ]
  },
  {
   "cell_type": "code",
   "execution_count": null,
   "id": "0f475497",
   "metadata": {},
   "outputs": [],
   "source": []
  },
  {
   "cell_type": "markdown",
   "id": "3e5478c1",
   "metadata": {},
   "source": [
    "## <font color = \"Orange\"> **Build Decision Tree Model**</font>"
   ]
  },
  {
   "cell_type": "code",
   "execution_count": 61,
   "id": "82d15cdc",
   "metadata": {},
   "outputs": [
    {
     "name": "stdout",
     "output_type": "stream",
     "text": [
      "Accuracy score of Decision Tree Model Test Data: 71.12\n",
      "Accuracy score of Decision Tree Model on Train Data: 100.0\n"
     ]
    }
   ],
   "source": [
    "dt = DecisionTreeClassifier(random_state=12)\n",
    "dt.fit(X_train,y_train)\n",
    "pred_dt = dt.predict(X_test)\n",
    "accu = accuracy_score(y_test,pred_dt)\n",
    "print(\"Accuracy score of Decision Tree Model Test Data:\",(accu*100).round(2))\n",
    "\n",
    "\n",
    "pred_dt_train = dt.predict(X_train)\n",
    "accu = accuracy_score(y_train,pred_dt_train)\n",
    "print(\"Accuracy score of Decision Tree Model on Train Data:\",(accu*100).round(2))"
   ]
  },
  {
   "cell_type": "code",
   "execution_count": 62,
   "id": "7b6c1bb9",
   "metadata": {},
   "outputs": [
    {
     "data": {
      "text/plain": [
       "array([[ 21,  26],\n",
       "       [ 28, 112]], dtype=int64)"
      ]
     },
     "execution_count": 62,
     "metadata": {},
     "output_type": "execute_result"
    }
   ],
   "source": [
    "confusion_matrix(y_test,pred_dt)"
   ]
  },
  {
   "cell_type": "code",
   "execution_count": 63,
   "id": "3de9f0f4",
   "metadata": {},
   "outputs": [
    {
     "name": "stdout",
     "output_type": "stream",
     "text": [
      "Cross Validation Score of Decision Tree Model: 75.89\n"
     ]
    }
   ],
   "source": [
    "score_dt = cross_val_score(dt,X_train,y_train, cv=5 )\n",
    "print(\"Cross Validation Score of Decision Tree Model:\", (score_dt.mean()*100).round(2))"
   ]
  },
  {
   "cell_type": "markdown",
   "id": "aa7a2f0b",
   "metadata": {},
   "source": [
    "## <font color = \"Orange\">**Build Random Forest Model**</font>"
   ]
  },
  {
   "cell_type": "code",
   "execution_count": 64,
   "id": "d6f4e516",
   "metadata": {},
   "outputs": [
    {
     "name": "stdout",
     "output_type": "stream",
     "text": [
      "Accuracy score of Random Forest Model on Test Data: 78.61\n",
      "Accuracy score of Random Forest Model on Train Data: 100.0\n"
     ]
    }
   ],
   "source": [
    "rfc = RandomForestClassifier(random_state=12)\n",
    "rfc.fit(X_train,y_train)\n",
    "pred_rfc = rfc.predict(X_test)\n",
    "accu = accuracy_score(y_test,pred_rfc)\n",
    "print(\"Accuracy score of Random Forest Model on Test Data:\",(accu*100).round(2))\n",
    "\n",
    "pred_rfc_train = rfc.predict(X_train)\n",
    "accu = accuracy_score(y_train,pred_rfc_train)\n",
    "print(\"Accuracy score of Random Forest Model on Train Data:\",(accu*100).round(2))"
   ]
  },
  {
   "cell_type": "code",
   "execution_count": 65,
   "id": "cabdb4df",
   "metadata": {},
   "outputs": [
    {
     "data": {
      "text/plain": [
       "array([[ 21,  26],\n",
       "       [ 14, 126]], dtype=int64)"
      ]
     },
     "execution_count": 65,
     "metadata": {},
     "output_type": "execute_result"
    }
   ],
   "source": [
    "confusion_matrix(y_test,pred_rfc)"
   ]
  },
  {
   "cell_type": "code",
   "execution_count": 66,
   "id": "10f70945",
   "metadata": {},
   "outputs": [
    {
     "name": "stdout",
     "output_type": "stream",
     "text": [
      "Cross Validation Score of Random Forest Model: 76.79\n"
     ]
    }
   ],
   "source": [
    "score_rfc = cross_val_score(rfc,X_train,y_train, cv= 5)\n",
    "print(\"Cross Validation Score of Random Forest Model:\", (score_rfc.mean()*100).round(2))"
   ]
  },
  {
   "cell_type": "markdown",
   "id": "db6e08ea",
   "metadata": {},
   "source": [
    "## <font color = \"Orange\">**Build KNN Model**</font>"
   ]
  },
  {
   "cell_type": "code",
   "execution_count": 67,
   "id": "709a299e",
   "metadata": {},
   "outputs": [
    {
     "name": "stdout",
     "output_type": "stream",
     "text": [
      "Accuracy score of KNN Model on Test Data: 79.14\n",
      "Accuracy score of KNN Model on Train Data: 85.18\n"
     ]
    }
   ],
   "source": [
    "knn = KNeighborsClassifier()\n",
    "knn.fit(X_train,y_train)\n",
    "pred_knn = knn.predict(X_test)\n",
    "accu = accuracy_score(y_test,pred_knn)\n",
    "print(\"Accuracy score of KNN Model on Test Data:\",(accu*100).round(2))\n",
    "\n",
    "\n",
    "pred_knn_train = knn.predict(X_train)\n",
    "accu = accuracy_score(y_train,pred_knn_train)\n",
    "print(\"Accuracy score of KNN Model on Train Data:\",(accu*100).round(2))"
   ]
  },
  {
   "cell_type": "code",
   "execution_count": 68,
   "id": "b063111e",
   "metadata": {},
   "outputs": [
    {
     "data": {
      "text/plain": [
       "array([[ 19,  28],\n",
       "       [ 11, 129]], dtype=int64)"
      ]
     },
     "execution_count": 68,
     "metadata": {},
     "output_type": "execute_result"
    }
   ],
   "source": [
    "confusion_matrix(y_test,pred_knn)"
   ]
  },
  {
   "cell_type": "code",
   "execution_count": 69,
   "id": "5253a5e7",
   "metadata": {},
   "outputs": [
    {
     "name": "stdout",
     "output_type": "stream",
     "text": [
      "Cross Validation Score of KNN Model: 78.57\n"
     ]
    }
   ],
   "source": [
    "score_knn = cross_val_score(knn,X_train,y_train, cv= 5)\n",
    "print(\"Cross Validation Score of KNN Model:\", (score_knn.mean()*100).round(2))"
   ]
  },
  {
   "cell_type": "markdown",
   "id": "6e3e2326",
   "metadata": {},
   "source": [
    "## <font color = \"Orange\">**Build SVM Model**</font>"
   ]
  },
  {
   "cell_type": "code",
   "execution_count": 70,
   "id": "9e5fb2e6",
   "metadata": {},
   "outputs": [
    {
     "name": "stdout",
     "output_type": "stream",
     "text": [
      "Accuracy score of SVM Model on Test Data: 81.28\n",
      "Accuracy score of SVM Model on Train Data: 84.11\n"
     ]
    }
   ],
   "source": [
    "svm =SVC(random_state=12)\n",
    "svm.fit(X_train,y_train)\n",
    "pred_svm = svm.predict(X_test)\n",
    "accu = accuracy_score(y_test,pred_svm)\n",
    "print(\"Accuracy score of SVM Model on Test Data:\",(accu*100).round(2))\n",
    "\n",
    "\n",
    "pred_svm_train = svm.predict(X_train)\n",
    "accu = accuracy_score(y_train,pred_svm_train)\n",
    "print(\"Accuracy score of SVM Model on Train Data:\",(accu*100).round(2))"
   ]
  },
  {
   "cell_type": "code",
   "execution_count": 71,
   "id": "afbb6a0a",
   "metadata": {},
   "outputs": [
    {
     "data": {
      "text/plain": [
       "array([[ 23,  24],\n",
       "       [ 11, 129]], dtype=int64)"
      ]
     },
     "execution_count": 71,
     "metadata": {},
     "output_type": "execute_result"
    }
   ],
   "source": [
    "confusion_matrix(y_test,pred_svm)"
   ]
  },
  {
   "cell_type": "code",
   "execution_count": 72,
   "id": "81f7b013",
   "metadata": {},
   "outputs": [
    {
     "name": "stdout",
     "output_type": "stream",
     "text": [
      "Cross Validation Score of SVM Model: 79.11\n"
     ]
    }
   ],
   "source": [
    "score_svm = cross_val_score(svm,X_train,y_train, cv=5)\n",
    "print(\"Cross Validation Score of SVM Model:\", (score_svm.mean()*100).round(2))"
   ]
  },
  {
   "cell_type": "code",
   "execution_count": null,
   "id": "5e85142b",
   "metadata": {},
   "outputs": [],
   "source": []
  },
  {
   "cell_type": "code",
   "execution_count": 73,
   "id": "a5d85419",
   "metadata": {},
   "outputs": [
    {
     "name": "stdout",
     "output_type": "stream",
     "text": [
      "Cross Validation Score of Logistic Regression Model: 80.0\n",
      "Cross Validation Score of Decision Tree Model: 75.89\n",
      "Cross Validation Score of Random Forest Model: 76.79\n",
      "Cross Validation Score of KNN Model: 78.57\n",
      "Cross Validation Score of SVM Model: 79.11\n"
     ]
    }
   ],
   "source": [
    "print(\"Cross Validation Score of Logistic Regression Model:\",(score_logreg.mean()*100).round(2))\n",
    "print(\"Cross Validation Score of Decision Tree Model:\",(score_dt.mean()*100).round(2))\n",
    "print(\"Cross Validation Score of Random Forest Model:\",(score_rfc.mean()*100).round(2))\n",
    "print(\"Cross Validation Score of KNN Model:\",(score_knn.mean()*100).round(2))\n",
    "print(\"Cross Validation Score of SVM Model:\",(score_svm.mean()*100).round(2))"
   ]
  },
  {
   "cell_type": "code",
   "execution_count": 74,
   "id": "dd99e7cf",
   "metadata": {},
   "outputs": [
    {
     "name": "stdout",
     "output_type": "stream",
     "text": [
      "Classification report for Logistic Regression Model on Test Data:\n",
      "              precision    recall  f1-score   support\n",
      "\n",
      "           0       0.77      0.51      0.62        47\n",
      "           1       0.85      0.95      0.90       140\n",
      "\n",
      "    accuracy                           0.84       187\n",
      "   macro avg       0.81      0.73      0.76       187\n",
      "weighted avg       0.83      0.84      0.83       187\n",
      "\n",
      "\n",
      "\n",
      "Classification report for Decision Tree Model on Test Data:\n",
      "              precision    recall  f1-score   support\n",
      "\n",
      "           0       0.43      0.45      0.44        47\n",
      "           1       0.81      0.80      0.81       140\n",
      "\n",
      "    accuracy                           0.71       187\n",
      "   macro avg       0.62      0.62      0.62       187\n",
      "weighted avg       0.72      0.71      0.71       187\n",
      "\n",
      "\n",
      "\n",
      "Classification report for Random Forest Model on Test Data:\n",
      "              precision    recall  f1-score   support\n",
      "\n",
      "           0       0.60      0.45      0.51        47\n",
      "           1       0.83      0.90      0.86       140\n",
      "\n",
      "    accuracy                           0.79       187\n",
      "   macro avg       0.71      0.67      0.69       187\n",
      "weighted avg       0.77      0.79      0.77       187\n",
      "\n",
      "\n",
      "\n",
      "Classification report for KNN Model on Test Data:\n",
      "              precision    recall  f1-score   support\n",
      "\n",
      "           0       0.63      0.40      0.49        47\n",
      "           1       0.82      0.92      0.87       140\n",
      "\n",
      "    accuracy                           0.79       187\n",
      "   macro avg       0.73      0.66      0.68       187\n",
      "weighted avg       0.77      0.79      0.77       187\n",
      "\n",
      "\n",
      "\n",
      "Classification report for SVM Model on Test Data:\n",
      "              precision    recall  f1-score   support\n",
      "\n",
      "           0       0.68      0.49      0.57        47\n",
      "           1       0.84      0.92      0.88       140\n",
      "\n",
      "    accuracy                           0.81       187\n",
      "   macro avg       0.76      0.71      0.72       187\n",
      "weighted avg       0.80      0.81      0.80       187\n",
      "\n"
     ]
    }
   ],
   "source": [
    "print(\"Classification report for Logistic Regression Model on Test Data:\")\n",
    "print(classification_report(y_test,pred_logreg))\n",
    "print(\"\\n\")\n",
    "print(\"Classification report for Decision Tree Model on Test Data:\")\n",
    "print(classification_report(y_test,pred_dt))\n",
    "print(\"\\n\")\n",
    "print(\"Classification report for Random Forest Model on Test Data:\")\n",
    "print(classification_report(y_test,pred_rfc))\n",
    "print(\"\\n\")\n",
    "print(\"Classification report for KNN Model on Test Data:\")\n",
    "print(classification_report(y_test,pred_knn))\n",
    "print(\"\\n\")\n",
    "print(\"Classification report for SVM Model on Test Data:\")\n",
    "print(classification_report(y_test,pred_svm))"
   ]
  },
  {
   "cell_type": "code",
   "execution_count": null,
   "id": "2950878d",
   "metadata": {},
   "outputs": [],
   "source": []
  },
  {
   "cell_type": "markdown",
   "id": "1dd4447e",
   "metadata": {},
   "source": [
    "####  <font size = 3>**Observation 01 :**</font>\n",
    "\n",
    "> In data set we see class imbalanced so to overcome this problem we can do any 2 techniques 1: Oversampling or 2: Undersampling.\n",
    "\n",
    "####  <font size = 3>**Observation 02 :**</font>\n",
    "\n",
    "> In data set we also see data is over fitted, because it's give good results on train data and poor results on test data. So to overcome this problem we can use PCA technique. PCA is used to remove insignificant features from dataset."
   ]
  },
  {
   "cell_type": "markdown",
   "id": "a169f3d7",
   "metadata": {},
   "source": [
    "### Oversampling using SMOTE :"
   ]
  },
  {
   "cell_type": "code",
   "execution_count": 75,
   "id": "4f6dd11e",
   "metadata": {},
   "outputs": [],
   "source": [
    "# SMOTE : Synthetic Minority Oversampling Technique, is a statistical technique used to balance the distribution of classes in a dataset."
   ]
  },
  {
   "cell_type": "code",
   "execution_count": 76,
   "id": "8276bd7e",
   "metadata": {},
   "outputs": [
    {
     "data": {
      "text/plain": [
       "(747, 11)"
      ]
     },
     "execution_count": 76,
     "metadata": {},
     "output_type": "execute_result"
    }
   ],
   "source": [
    "df_scaled.shape"
   ]
  },
  {
   "cell_type": "code",
   "execution_count": 77,
   "id": "5bf73973",
   "metadata": {},
   "outputs": [
    {
     "data": {
      "text/plain": [
       "1    538\n",
       "0    209\n",
       "Name: Loan_Status, dtype: int64"
      ]
     },
     "execution_count": 77,
     "metadata": {},
     "output_type": "execute_result"
    }
   ],
   "source": [
    "y.value_counts()"
   ]
  },
  {
   "cell_type": "code",
   "execution_count": 78,
   "id": "70fc2e81",
   "metadata": {},
   "outputs": [],
   "source": [
    "from imblearn.over_sampling import SMOTE\n",
    "\n",
    "smt = SMOTE(random_state=12)\n",
    "X_resampling,y_resampling = smt.fit_resample(df_scaled,y)"
   ]
  },
  {
   "cell_type": "code",
   "execution_count": 79,
   "id": "a1d9634e",
   "metadata": {},
   "outputs": [
    {
     "data": {
      "text/plain": [
       "1    538\n",
       "0    538\n",
       "Name: Loan_Status, dtype: int64"
      ]
     },
     "execution_count": 79,
     "metadata": {},
     "output_type": "execute_result"
    }
   ],
   "source": [
    "y_resampling.value_counts()"
   ]
  },
  {
   "cell_type": "code",
   "execution_count": 80,
   "id": "2fa78e4c",
   "metadata": {},
   "outputs": [],
   "source": [
    "X_train_resampling,X_test_resampling,y_train_resampling,y_test_resampling =train_test_split(X_resampling,y_resampling,test_size=.25,random_state=1111)"
   ]
  },
  {
   "cell_type": "code",
   "execution_count": 81,
   "id": "e3ecb03b",
   "metadata": {},
   "outputs": [],
   "source": [
    "# Logistic Regression after oversampling :"
   ]
  },
  {
   "cell_type": "code",
   "execution_count": 82,
   "id": "f7ffc49a",
   "metadata": {},
   "outputs": [
    {
     "name": "stdout",
     "output_type": "stream",
     "text": [
      "Accuracy score of Logistic Regression Model on Test Data After Oversampling: 80.29739776951673\n",
      "Accuracy score of Logistic Regression Model on Train Data After Oversampling: 76.70384138785626\n"
     ]
    }
   ],
   "source": [
    "logreg = LogisticRegression(random_state=12)\n",
    "logreg.fit(X_train_resampling,y_train_resampling)\n",
    "pred_logreg = logreg.predict(X_test_resampling)\n",
    "accu = accuracy_score(y_test_resampling,pred_logreg)\n",
    "print(\"Accuracy score of Logistic Regression Model on Test Data After Oversampling:\",accu*100)\n",
    "\n",
    "train_pred_logreg = logreg.predict(X_train_resampling)\n",
    "accu = accuracy_score(y_train_resampling,train_pred_logreg)\n",
    "print(\"Accuracy score of Logistic Regression Model on Train Data After Oversampling:\",accu*100)"
   ]
  },
  {
   "cell_type": "code",
   "execution_count": 83,
   "id": "59c55820",
   "metadata": {},
   "outputs": [
    {
     "data": {
      "text/plain": [
       "array([[ 90,  34],\n",
       "       [ 19, 126]], dtype=int64)"
      ]
     },
     "execution_count": 83,
     "metadata": {},
     "output_type": "execute_result"
    }
   ],
   "source": [
    "confusion_matrix(y_test_resampling,pred_logreg)"
   ]
  },
  {
   "cell_type": "code",
   "execution_count": 84,
   "id": "9f93319f",
   "metadata": {},
   "outputs": [
    {
     "name": "stdout",
     "output_type": "stream",
     "text": [
      "Cross Validation Score of Logistic Regression Model after over sampling: 76.22\n"
     ]
    }
   ],
   "source": [
    "score_logreg = cross_val_score(logreg,X_train_resampling,y_train_resampling, cv= 5)\n",
    "print(\"Cross Validation Score of Logistic Regression Model after over sampling:\", (score_logreg.mean()*100).round(2))"
   ]
  },
  {
   "cell_type": "code",
   "execution_count": 85,
   "id": "0c4570d3",
   "metadata": {},
   "outputs": [],
   "source": [
    "# Decision Tree after oversampling :"
   ]
  },
  {
   "cell_type": "code",
   "execution_count": 86,
   "id": "bb5491f6",
   "metadata": {},
   "outputs": [
    {
     "name": "stdout",
     "output_type": "stream",
     "text": [
      "Accuracy score of Decision Tree Model on Test Data After Oversampling: 78.06691449814126\n",
      "Accuracy score of Decision Tree Model on Train Data After Oversampling: 100.0\n"
     ]
    }
   ],
   "source": [
    "dt = DecisionTreeClassifier(random_state=12)\n",
    "dt.fit(X_train_resampling,y_train_resampling)\n",
    "pred_dt = dt.predict(X_test_resampling)\n",
    "accu = accuracy_score(y_test_resampling,pred_dt)\n",
    "print(\"Accuracy score of Decision Tree Model on Test Data After Oversampling:\",accu*100)\n",
    "\n",
    "train_pred_dt = dt.predict(X_train_resampling)\n",
    "accu = accuracy_score(y_train_resampling,train_pred_dt)\n",
    "print(\"Accuracy score of Decision Tree Model on Train Data After Oversampling:\",accu*100)"
   ]
  },
  {
   "cell_type": "code",
   "execution_count": 87,
   "id": "3a474f15",
   "metadata": {},
   "outputs": [
    {
     "data": {
      "text/plain": [
       "array([[101,  23],\n",
       "       [ 36, 109]], dtype=int64)"
      ]
     },
     "execution_count": 87,
     "metadata": {},
     "output_type": "execute_result"
    }
   ],
   "source": [
    "confusion_matrix(y_test_resampling,pred_dt)"
   ]
  },
  {
   "cell_type": "code",
   "execution_count": 88,
   "id": "87e552df",
   "metadata": {},
   "outputs": [
    {
     "name": "stdout",
     "output_type": "stream",
     "text": [
      "Cross Validation Score of Decision Tree Model after over sampling: 73.98\n"
     ]
    }
   ],
   "source": [
    "score_dt = cross_val_score(dt,X_train_resampling,y_train_resampling, cv= 5)\n",
    "print(\"Cross Validation Score of Decision Tree Model after over sampling:\", (score_dt.mean()*100).round(2))"
   ]
  },
  {
   "cell_type": "code",
   "execution_count": 89,
   "id": "bc9a9ee9",
   "metadata": {},
   "outputs": [],
   "source": [
    "# Random Forest after oversampling :"
   ]
  },
  {
   "cell_type": "code",
   "execution_count": 90,
   "id": "38035fcd",
   "metadata": {},
   "outputs": [
    {
     "name": "stdout",
     "output_type": "stream",
     "text": [
      "Accuracy score of Random Forest Model on Test Data After Oversampling: 88.10408921933085\n",
      "Accuracy score of Random Forest Model on Train Data After Oversampling: 100.0\n"
     ]
    }
   ],
   "source": [
    "rfc = RandomForestClassifier(random_state=12)\n",
    "rfc.fit(X_train_resampling,y_train_resampling)\n",
    "pred_rfc = rfc.predict(X_test_resampling)\n",
    "accu = accuracy_score(y_test_resampling,pred_rfc)\n",
    "print(\"Accuracy score of Random Forest Model on Test Data After Oversampling:\",accu*100)\n",
    "\n",
    "train_pred_rfc = rfc.predict(X_train_resampling)\n",
    "accu = accuracy_score(y_train_resampling,train_pred_rfc)\n",
    "print(\"Accuracy score of Random Forest Model on Train Data After Oversampling:\",accu*100)"
   ]
  },
  {
   "cell_type": "code",
   "execution_count": 91,
   "id": "bc3de7fe",
   "metadata": {},
   "outputs": [
    {
     "data": {
      "text/plain": [
       "array([[112,  12],\n",
       "       [ 20, 125]], dtype=int64)"
      ]
     },
     "execution_count": 91,
     "metadata": {},
     "output_type": "execute_result"
    }
   ],
   "source": [
    "confusion_matrix(y_test_resampling,pred_rfc)"
   ]
  },
  {
   "cell_type": "code",
   "execution_count": 92,
   "id": "28468e62",
   "metadata": {},
   "outputs": [
    {
     "name": "stdout",
     "output_type": "stream",
     "text": [
      "Cross Validation Score of Random Forest Model after over sampling: 82.77\n"
     ]
    }
   ],
   "source": [
    "score_rfc = cross_val_score(rfc,X_train_resampling,y_train_resampling, cv= 5)\n",
    "print(\"Cross Validation Score of Random Forest Model after over sampling:\", (score_rfc.mean()*100).round(2))"
   ]
  },
  {
   "cell_type": "code",
   "execution_count": 93,
   "id": "41ce8bba",
   "metadata": {},
   "outputs": [],
   "source": [
    "# KNN after oversampling :"
   ]
  },
  {
   "cell_type": "code",
   "execution_count": 94,
   "id": "961af47a",
   "metadata": {},
   "outputs": [
    {
     "name": "stdout",
     "output_type": "stream",
     "text": [
      "Accuracy score of KNN Model on Test Data After Oversampling:: 80.66914498141264\n",
      "Accuracy score of KNN Model on Train Data After Oversampling:: 86.12143742255266\n"
     ]
    }
   ],
   "source": [
    "knn = KNeighborsClassifier()\n",
    "knn.fit(X_train_resampling,y_train_resampling)\n",
    "pred_knn = knn.predict(X_test_resampling)\n",
    "accu = accuracy_score(y_test_resampling,pred_knn)\n",
    "print(\"Accuracy score of KNN Model on Test Data After Oversampling::\",accu*100)\n",
    "\n",
    "train_pred_knn = knn.predict(X_train_resampling)\n",
    "accu = accuracy_score(y_train_resampling,train_pred_knn)\n",
    "print(\"Accuracy score of KNN Model on Train Data After Oversampling::\",accu*100)"
   ]
  },
  {
   "cell_type": "code",
   "execution_count": 95,
   "id": "7047ad63",
   "metadata": {},
   "outputs": [
    {
     "data": {
      "text/plain": [
       "array([[109,  15],\n",
       "       [ 37, 108]], dtype=int64)"
      ]
     },
     "execution_count": 95,
     "metadata": {},
     "output_type": "execute_result"
    }
   ],
   "source": [
    "confusion_matrix(y_test_resampling,pred_knn)"
   ]
  },
  {
   "cell_type": "code",
   "execution_count": 96,
   "id": "2e9d276c",
   "metadata": {},
   "outputs": [
    {
     "name": "stdout",
     "output_type": "stream",
     "text": [
      "Cross Validation Score of KNN Model after over sampling: 78.32\n"
     ]
    }
   ],
   "source": [
    "score_knn = cross_val_score(knn,X_train_resampling,y_train_resampling, cv= 5)\n",
    "print(\"Cross Validation Score of KNN Model after over sampling:\", (score_knn.mean()*100).round(2))"
   ]
  },
  {
   "cell_type": "code",
   "execution_count": 97,
   "id": "ca6d6f81",
   "metadata": {},
   "outputs": [],
   "source": [
    "# SVM after oversampling :"
   ]
  },
  {
   "cell_type": "code",
   "execution_count": 98,
   "id": "422dd25e",
   "metadata": {},
   "outputs": [
    {
     "name": "stdout",
     "output_type": "stream",
     "text": [
      "Accuracy score of SVM Model on Test Data After Oversampling:: 82.16\n",
      "Accuracy score of SVM Model on Train Data After Oversampling:: 83.64\n"
     ]
    }
   ],
   "source": [
    "svm =SVC(random_state=12)\n",
    "svm.fit(X_train_resampling,y_train_resampling)\n",
    "pred_svm = svm.predict(X_test_resampling)\n",
    "accu = accuracy_score(y_test_resampling,pred_svm)\n",
    "print(\"Accuracy score of SVM Model on Test Data After Oversampling::\",(accu*100).round(2))\n",
    "\n",
    "train_pred_svm = svm.predict(X_train_resampling)\n",
    "accu = accuracy_score(y_train_resampling,train_pred_svm)\n",
    "print(\"Accuracy score of SVM Model on Train Data After Oversampling::\",(accu*100).round(2))"
   ]
  },
  {
   "cell_type": "code",
   "execution_count": 99,
   "id": "8c3a631a",
   "metadata": {},
   "outputs": [
    {
     "data": {
      "text/plain": [
       "array([[ 97,  27],\n",
       "       [ 21, 124]], dtype=int64)"
      ]
     },
     "execution_count": 99,
     "metadata": {},
     "output_type": "execute_result"
    }
   ],
   "source": [
    "confusion_matrix(y_test_resampling,pred_svm)"
   ]
  },
  {
   "cell_type": "code",
   "execution_count": 100,
   "id": "fcacb25a",
   "metadata": {},
   "outputs": [
    {
     "name": "stdout",
     "output_type": "stream",
     "text": [
      "Cross Validation Score of SVM Model after over sampling: 78.69\n"
     ]
    }
   ],
   "source": [
    "score_svm = cross_val_score(svm,X_train_resampling,y_train_resampling, cv= 5)\n",
    "print(\"Cross Validation Score of SVM Model after over sampling:\", (score_svm.mean()*100).round(2))"
   ]
  },
  {
   "cell_type": "code",
   "execution_count": 101,
   "id": "51b62864",
   "metadata": {},
   "outputs": [
    {
     "name": "stdout",
     "output_type": "stream",
     "text": [
      "Classification report for Logistic Regression Model After Oversampling::\n",
      "              precision    recall  f1-score   support\n",
      "\n",
      "           0       0.83      0.73      0.77       124\n",
      "           1       0.79      0.87      0.83       145\n",
      "\n",
      "    accuracy                           0.80       269\n",
      "   macro avg       0.81      0.80      0.80       269\n",
      "weighted avg       0.81      0.80      0.80       269\n",
      "\n",
      "\n",
      "\n",
      "Classification report for Decision Tree Model After Oversampling::\n",
      "              precision    recall  f1-score   support\n",
      "\n",
      "           0       0.74      0.81      0.77       124\n",
      "           1       0.83      0.75      0.79       145\n",
      "\n",
      "    accuracy                           0.78       269\n",
      "   macro avg       0.78      0.78      0.78       269\n",
      "weighted avg       0.78      0.78      0.78       269\n",
      "\n",
      "\n",
      "\n",
      "Classification report for Random Forest Model After Oversampling::\n",
      "              precision    recall  f1-score   support\n",
      "\n",
      "           0       0.85      0.90      0.88       124\n",
      "           1       0.91      0.86      0.89       145\n",
      "\n",
      "    accuracy                           0.88       269\n",
      "   macro avg       0.88      0.88      0.88       269\n",
      "weighted avg       0.88      0.88      0.88       269\n",
      "\n",
      "\n",
      "\n",
      "Classification report for KNN Model After Oversampling::\n",
      "              precision    recall  f1-score   support\n",
      "\n",
      "           0       0.75      0.88      0.81       124\n",
      "           1       0.88      0.74      0.81       145\n",
      "\n",
      "    accuracy                           0.81       269\n",
      "   macro avg       0.81      0.81      0.81       269\n",
      "weighted avg       0.82      0.81      0.81       269\n",
      "\n",
      "\n",
      "\n",
      "Classification report for SVM Model on Test Data After Oversampling::\n",
      "              precision    recall  f1-score   support\n",
      "\n",
      "           0       0.82      0.78      0.80       124\n",
      "           1       0.82      0.86      0.84       145\n",
      "\n",
      "    accuracy                           0.82       269\n",
      "   macro avg       0.82      0.82      0.82       269\n",
      "weighted avg       0.82      0.82      0.82       269\n",
      "\n"
     ]
    }
   ],
   "source": [
    "print(\"Classification report for Logistic Regression Model After Oversampling::\")\n",
    "print(classification_report(y_test_resampling,pred_logreg))\n",
    "print(\"\\n\")\n",
    "print(\"Classification report for Decision Tree Model After Oversampling::\")\n",
    "print(classification_report(y_test_resampling,pred_dt))\n",
    "print(\"\\n\")\n",
    "print(\"Classification report for Random Forest Model After Oversampling::\")\n",
    "print(classification_report(y_test_resampling,pred_rfc))\n",
    "print(\"\\n\")\n",
    "print(\"Classification report for KNN Model After Oversampling::\")\n",
    "print(classification_report(y_test_resampling,pred_knn))\n",
    "print(\"\\n\")\n",
    "print(\"Classification report for SVM Model on Test Data After Oversampling::\")\n",
    "print(classification_report(y_test_resampling,pred_svm))"
   ]
  },
  {
   "cell_type": "markdown",
   "id": "68536b2e",
   "metadata": {},
   "source": [
    "### Hyper Parameter Tunning"
   ]
  },
  {
   "cell_type": "markdown",
   "id": "b00f6da9",
   "metadata": {},
   "source": [
    "### Logistic Regression:"
   ]
  },
  {
   "cell_type": "code",
   "execution_count": 102,
   "id": "509ce6ae",
   "metadata": {},
   "outputs": [],
   "source": [
    "from sklearn.model_selection import GridSearchCV # get the best combination of hyper parameters\n",
    "search_dict = {'C': [0.001, 0.01, 0.1, 1, 10],\n",
    "    'penalty': ['l1', 'l2', 'elasticnet'],\n",
    "    'solver': ['liblinear', 'saga'],\n",
    "    'max_iter': [100, 200, 300]}\n",
    "\n",
    "# Search_dict  = dictionary created by the user \n",
    "\n",
    "logreg = LogisticRegression()\n",
    "grid_logreg = GridSearchCV(logreg , param_grid= search_dict, cv= 5 , scoring='accuracy')"
   ]
  },
  {
   "cell_type": "code",
   "execution_count": 103,
   "id": "ac95fcee",
   "metadata": {},
   "outputs": [
    {
     "data": {
      "text/html": [
       "<style>#sk-container-id-1 {color: black;}#sk-container-id-1 pre{padding: 0;}#sk-container-id-1 div.sk-toggleable {background-color: white;}#sk-container-id-1 label.sk-toggleable__label {cursor: pointer;display: block;width: 100%;margin-bottom: 0;padding: 0.3em;box-sizing: border-box;text-align: center;}#sk-container-id-1 label.sk-toggleable__label-arrow:before {content: \"▸\";float: left;margin-right: 0.25em;color: #696969;}#sk-container-id-1 label.sk-toggleable__label-arrow:hover:before {color: black;}#sk-container-id-1 div.sk-estimator:hover label.sk-toggleable__label-arrow:before {color: black;}#sk-container-id-1 div.sk-toggleable__content {max-height: 0;max-width: 0;overflow: hidden;text-align: left;background-color: #f0f8ff;}#sk-container-id-1 div.sk-toggleable__content pre {margin: 0.2em;color: black;border-radius: 0.25em;background-color: #f0f8ff;}#sk-container-id-1 input.sk-toggleable__control:checked~div.sk-toggleable__content {max-height: 200px;max-width: 100%;overflow: auto;}#sk-container-id-1 input.sk-toggleable__control:checked~label.sk-toggleable__label-arrow:before {content: \"▾\";}#sk-container-id-1 div.sk-estimator input.sk-toggleable__control:checked~label.sk-toggleable__label {background-color: #d4ebff;}#sk-container-id-1 div.sk-label input.sk-toggleable__control:checked~label.sk-toggleable__label {background-color: #d4ebff;}#sk-container-id-1 input.sk-hidden--visually {border: 0;clip: rect(1px 1px 1px 1px);clip: rect(1px, 1px, 1px, 1px);height: 1px;margin: -1px;overflow: hidden;padding: 0;position: absolute;width: 1px;}#sk-container-id-1 div.sk-estimator {font-family: monospace;background-color: #f0f8ff;border: 1px dotted black;border-radius: 0.25em;box-sizing: border-box;margin-bottom: 0.5em;}#sk-container-id-1 div.sk-estimator:hover {background-color: #d4ebff;}#sk-container-id-1 div.sk-parallel-item::after {content: \"\";width: 100%;border-bottom: 1px solid gray;flex-grow: 1;}#sk-container-id-1 div.sk-label:hover label.sk-toggleable__label {background-color: #d4ebff;}#sk-container-id-1 div.sk-serial::before {content: \"\";position: absolute;border-left: 1px solid gray;box-sizing: border-box;top: 0;bottom: 0;left: 50%;z-index: 0;}#sk-container-id-1 div.sk-serial {display: flex;flex-direction: column;align-items: center;background-color: white;padding-right: 0.2em;padding-left: 0.2em;position: relative;}#sk-container-id-1 div.sk-item {position: relative;z-index: 1;}#sk-container-id-1 div.sk-parallel {display: flex;align-items: stretch;justify-content: center;background-color: white;position: relative;}#sk-container-id-1 div.sk-item::before, #sk-container-id-1 div.sk-parallel-item::before {content: \"\";position: absolute;border-left: 1px solid gray;box-sizing: border-box;top: 0;bottom: 0;left: 50%;z-index: -1;}#sk-container-id-1 div.sk-parallel-item {display: flex;flex-direction: column;z-index: 1;position: relative;background-color: white;}#sk-container-id-1 div.sk-parallel-item:first-child::after {align-self: flex-end;width: 50%;}#sk-container-id-1 div.sk-parallel-item:last-child::after {align-self: flex-start;width: 50%;}#sk-container-id-1 div.sk-parallel-item:only-child::after {width: 0;}#sk-container-id-1 div.sk-dashed-wrapped {border: 1px dashed gray;margin: 0 0.4em 0.5em 0.4em;box-sizing: border-box;padding-bottom: 0.4em;background-color: white;}#sk-container-id-1 div.sk-label label {font-family: monospace;font-weight: bold;display: inline-block;line-height: 1.2em;}#sk-container-id-1 div.sk-label-container {text-align: center;}#sk-container-id-1 div.sk-container {/* jupyter's `normalize.less` sets `[hidden] { display: none; }` but bootstrap.min.css set `[hidden] { display: none !important; }` so we also need the `!important` here to be able to override the default hidden behavior on the sphinx rendered scikit-learn.org. See: https://github.com/scikit-learn/scikit-learn/issues/21755 */display: inline-block !important;position: relative;}#sk-container-id-1 div.sk-text-repr-fallback {display: none;}</style><div id=\"sk-container-id-1\" class=\"sk-top-container\"><div class=\"sk-text-repr-fallback\"><pre>GridSearchCV(cv=5, estimator=LogisticRegression(),\n",
       "             param_grid={&#x27;C&#x27;: [0.001, 0.01, 0.1, 1, 10],\n",
       "                         &#x27;max_iter&#x27;: [100, 200, 300],\n",
       "                         &#x27;penalty&#x27;: [&#x27;l1&#x27;, &#x27;l2&#x27;, &#x27;elasticnet&#x27;],\n",
       "                         &#x27;solver&#x27;: [&#x27;liblinear&#x27;, &#x27;saga&#x27;]},\n",
       "             scoring=&#x27;accuracy&#x27;)</pre><b>In a Jupyter environment, please rerun this cell to show the HTML representation or trust the notebook. <br />On GitHub, the HTML representation is unable to render, please try loading this page with nbviewer.org.</b></div><div class=\"sk-container\" hidden><div class=\"sk-item sk-dashed-wrapped\"><div class=\"sk-label-container\"><div class=\"sk-label sk-toggleable\"><input class=\"sk-toggleable__control sk-hidden--visually\" id=\"sk-estimator-id-1\" type=\"checkbox\" ><label for=\"sk-estimator-id-1\" class=\"sk-toggleable__label sk-toggleable__label-arrow\">GridSearchCV</label><div class=\"sk-toggleable__content\"><pre>GridSearchCV(cv=5, estimator=LogisticRegression(),\n",
       "             param_grid={&#x27;C&#x27;: [0.001, 0.01, 0.1, 1, 10],\n",
       "                         &#x27;max_iter&#x27;: [100, 200, 300],\n",
       "                         &#x27;penalty&#x27;: [&#x27;l1&#x27;, &#x27;l2&#x27;, &#x27;elasticnet&#x27;],\n",
       "                         &#x27;solver&#x27;: [&#x27;liblinear&#x27;, &#x27;saga&#x27;]},\n",
       "             scoring=&#x27;accuracy&#x27;)</pre></div></div></div><div class=\"sk-parallel\"><div class=\"sk-parallel-item\"><div class=\"sk-item\"><div class=\"sk-label-container\"><div class=\"sk-label sk-toggleable\"><input class=\"sk-toggleable__control sk-hidden--visually\" id=\"sk-estimator-id-2\" type=\"checkbox\" ><label for=\"sk-estimator-id-2\" class=\"sk-toggleable__label sk-toggleable__label-arrow\">estimator: LogisticRegression</label><div class=\"sk-toggleable__content\"><pre>LogisticRegression()</pre></div></div></div><div class=\"sk-serial\"><div class=\"sk-item\"><div class=\"sk-estimator sk-toggleable\"><input class=\"sk-toggleable__control sk-hidden--visually\" id=\"sk-estimator-id-3\" type=\"checkbox\" ><label for=\"sk-estimator-id-3\" class=\"sk-toggleable__label sk-toggleable__label-arrow\">LogisticRegression</label><div class=\"sk-toggleable__content\"><pre>LogisticRegression()</pre></div></div></div></div></div></div></div></div></div></div>"
      ],
      "text/plain": [
       "GridSearchCV(cv=5, estimator=LogisticRegression(),\n",
       "             param_grid={'C': [0.001, 0.01, 0.1, 1, 10],\n",
       "                         'max_iter': [100, 200, 300],\n",
       "                         'penalty': ['l1', 'l2', 'elasticnet'],\n",
       "                         'solver': ['liblinear', 'saga']},\n",
       "             scoring='accuracy')"
      ]
     },
     "execution_count": 103,
     "metadata": {},
     "output_type": "execute_result"
    }
   ],
   "source": [
    "grid_logreg.fit(X_train_resampling,y_train_resampling)"
   ]
  },
  {
   "cell_type": "code",
   "execution_count": 104,
   "id": "80314f5b",
   "metadata": {},
   "outputs": [
    {
     "data": {
      "text/plain": [
       "{'C': 0.01, 'max_iter': 100, 'penalty': 'l1', 'solver': 'liblinear'}"
      ]
     },
     "execution_count": 104,
     "metadata": {},
     "output_type": "execute_result"
    }
   ],
   "source": [
    "grid_logreg.best_params_"
   ]
  },
  {
   "cell_type": "code",
   "execution_count": 105,
   "id": "af0d5ca8",
   "metadata": {},
   "outputs": [
    {
     "name": "stdout",
     "output_type": "stream",
     "text": [
      "Accuracy score of Logistic Regression Model on Test Data: 80.66914498141264\n",
      "Accuracy score of Logistic Regression Model on Train Data: 76.33209417596035\n"
     ]
    }
   ],
   "source": [
    "logreg = LogisticRegression(C=0.01,max_iter=100,penalty='l1',solver='liblinear')\n",
    "logreg.fit(X_train_resampling,y_train_resampling)\n",
    "\n",
    "pred_logreg = logreg.predict(X_test_resampling)\n",
    "accu = accuracy_score(y_test_resampling,pred_logreg)\n",
    "print(\"Accuracy score of Logistic Regression Model on Test Data:\",accu*100)\n",
    "\n",
    "train_pred_logreg = logreg.predict(X_train_resampling)\n",
    "accu = accuracy_score(y_train_resampling,train_pred_logreg)\n",
    "print(\"Accuracy score of Logistic Regression Model on Train Data:\",accu*100)"
   ]
  },
  {
   "cell_type": "code",
   "execution_count": 106,
   "id": "efe612ff",
   "metadata": {},
   "outputs": [
    {
     "name": "stdout",
     "output_type": "stream",
     "text": [
      "Cross Validation Score of Logistic Regression Model after: 76.34\n"
     ]
    }
   ],
   "source": [
    "score_logreg = cross_val_score(logreg,X_train_resampling,y_train_resampling, cv= 5)\n",
    "print(\"Cross Validation Score of Logistic Regression Model after:\", (score_logreg.mean()*100).round(2))"
   ]
  },
  {
   "cell_type": "markdown",
   "id": "6733f78b",
   "metadata": {},
   "source": [
    "### Decision Tree:"
   ]
  },
  {
   "cell_type": "code",
   "execution_count": 107,
   "id": "f519c1b8",
   "metadata": {},
   "outputs": [],
   "source": [
    "from sklearn.model_selection import GridSearchCV # get the best combination of hyper parameters\n",
    "search_dict = {\"criterion\" : [\"gini\" , \"entropy\"],\n",
    "              \"max_depth\" : range(2,11) , \n",
    "              \"min_samples_split\" : range(25,50 ,100)}\n",
    "\n",
    "# Search_dict  = dictionary created by the user \n",
    "\n",
    "dt = DecisionTreeClassifier()\n",
    "grid_dt = GridSearchCV(dt , param_grid= search_dict, cv= 5 , scoring='accuracy')"
   ]
  },
  {
   "cell_type": "code",
   "execution_count": 108,
   "id": "0c5c49b2",
   "metadata": {},
   "outputs": [
    {
     "data": {
      "text/html": [
       "<style>#sk-container-id-2 {color: black;}#sk-container-id-2 pre{padding: 0;}#sk-container-id-2 div.sk-toggleable {background-color: white;}#sk-container-id-2 label.sk-toggleable__label {cursor: pointer;display: block;width: 100%;margin-bottom: 0;padding: 0.3em;box-sizing: border-box;text-align: center;}#sk-container-id-2 label.sk-toggleable__label-arrow:before {content: \"▸\";float: left;margin-right: 0.25em;color: #696969;}#sk-container-id-2 label.sk-toggleable__label-arrow:hover:before {color: black;}#sk-container-id-2 div.sk-estimator:hover label.sk-toggleable__label-arrow:before {color: black;}#sk-container-id-2 div.sk-toggleable__content {max-height: 0;max-width: 0;overflow: hidden;text-align: left;background-color: #f0f8ff;}#sk-container-id-2 div.sk-toggleable__content pre {margin: 0.2em;color: black;border-radius: 0.25em;background-color: #f0f8ff;}#sk-container-id-2 input.sk-toggleable__control:checked~div.sk-toggleable__content {max-height: 200px;max-width: 100%;overflow: auto;}#sk-container-id-2 input.sk-toggleable__control:checked~label.sk-toggleable__label-arrow:before {content: \"▾\";}#sk-container-id-2 div.sk-estimator input.sk-toggleable__control:checked~label.sk-toggleable__label {background-color: #d4ebff;}#sk-container-id-2 div.sk-label input.sk-toggleable__control:checked~label.sk-toggleable__label {background-color: #d4ebff;}#sk-container-id-2 input.sk-hidden--visually {border: 0;clip: rect(1px 1px 1px 1px);clip: rect(1px, 1px, 1px, 1px);height: 1px;margin: -1px;overflow: hidden;padding: 0;position: absolute;width: 1px;}#sk-container-id-2 div.sk-estimator {font-family: monospace;background-color: #f0f8ff;border: 1px dotted black;border-radius: 0.25em;box-sizing: border-box;margin-bottom: 0.5em;}#sk-container-id-2 div.sk-estimator:hover {background-color: #d4ebff;}#sk-container-id-2 div.sk-parallel-item::after {content: \"\";width: 100%;border-bottom: 1px solid gray;flex-grow: 1;}#sk-container-id-2 div.sk-label:hover label.sk-toggleable__label {background-color: #d4ebff;}#sk-container-id-2 div.sk-serial::before {content: \"\";position: absolute;border-left: 1px solid gray;box-sizing: border-box;top: 0;bottom: 0;left: 50%;z-index: 0;}#sk-container-id-2 div.sk-serial {display: flex;flex-direction: column;align-items: center;background-color: white;padding-right: 0.2em;padding-left: 0.2em;position: relative;}#sk-container-id-2 div.sk-item {position: relative;z-index: 1;}#sk-container-id-2 div.sk-parallel {display: flex;align-items: stretch;justify-content: center;background-color: white;position: relative;}#sk-container-id-2 div.sk-item::before, #sk-container-id-2 div.sk-parallel-item::before {content: \"\";position: absolute;border-left: 1px solid gray;box-sizing: border-box;top: 0;bottom: 0;left: 50%;z-index: -1;}#sk-container-id-2 div.sk-parallel-item {display: flex;flex-direction: column;z-index: 1;position: relative;background-color: white;}#sk-container-id-2 div.sk-parallel-item:first-child::after {align-self: flex-end;width: 50%;}#sk-container-id-2 div.sk-parallel-item:last-child::after {align-self: flex-start;width: 50%;}#sk-container-id-2 div.sk-parallel-item:only-child::after {width: 0;}#sk-container-id-2 div.sk-dashed-wrapped {border: 1px dashed gray;margin: 0 0.4em 0.5em 0.4em;box-sizing: border-box;padding-bottom: 0.4em;background-color: white;}#sk-container-id-2 div.sk-label label {font-family: monospace;font-weight: bold;display: inline-block;line-height: 1.2em;}#sk-container-id-2 div.sk-label-container {text-align: center;}#sk-container-id-2 div.sk-container {/* jupyter's `normalize.less` sets `[hidden] { display: none; }` but bootstrap.min.css set `[hidden] { display: none !important; }` so we also need the `!important` here to be able to override the default hidden behavior on the sphinx rendered scikit-learn.org. See: https://github.com/scikit-learn/scikit-learn/issues/21755 */display: inline-block !important;position: relative;}#sk-container-id-2 div.sk-text-repr-fallback {display: none;}</style><div id=\"sk-container-id-2\" class=\"sk-top-container\"><div class=\"sk-text-repr-fallback\"><pre>GridSearchCV(cv=5, estimator=DecisionTreeClassifier(),\n",
       "             param_grid={&#x27;criterion&#x27;: [&#x27;gini&#x27;, &#x27;entropy&#x27;],\n",
       "                         &#x27;max_depth&#x27;: range(2, 11),\n",
       "                         &#x27;min_samples_split&#x27;: range(25, 50, 100)},\n",
       "             scoring=&#x27;accuracy&#x27;)</pre><b>In a Jupyter environment, please rerun this cell to show the HTML representation or trust the notebook. <br />On GitHub, the HTML representation is unable to render, please try loading this page with nbviewer.org.</b></div><div class=\"sk-container\" hidden><div class=\"sk-item sk-dashed-wrapped\"><div class=\"sk-label-container\"><div class=\"sk-label sk-toggleable\"><input class=\"sk-toggleable__control sk-hidden--visually\" id=\"sk-estimator-id-4\" type=\"checkbox\" ><label for=\"sk-estimator-id-4\" class=\"sk-toggleable__label sk-toggleable__label-arrow\">GridSearchCV</label><div class=\"sk-toggleable__content\"><pre>GridSearchCV(cv=5, estimator=DecisionTreeClassifier(),\n",
       "             param_grid={&#x27;criterion&#x27;: [&#x27;gini&#x27;, &#x27;entropy&#x27;],\n",
       "                         &#x27;max_depth&#x27;: range(2, 11),\n",
       "                         &#x27;min_samples_split&#x27;: range(25, 50, 100)},\n",
       "             scoring=&#x27;accuracy&#x27;)</pre></div></div></div><div class=\"sk-parallel\"><div class=\"sk-parallel-item\"><div class=\"sk-item\"><div class=\"sk-label-container\"><div class=\"sk-label sk-toggleable\"><input class=\"sk-toggleable__control sk-hidden--visually\" id=\"sk-estimator-id-5\" type=\"checkbox\" ><label for=\"sk-estimator-id-5\" class=\"sk-toggleable__label sk-toggleable__label-arrow\">estimator: DecisionTreeClassifier</label><div class=\"sk-toggleable__content\"><pre>DecisionTreeClassifier()</pre></div></div></div><div class=\"sk-serial\"><div class=\"sk-item\"><div class=\"sk-estimator sk-toggleable\"><input class=\"sk-toggleable__control sk-hidden--visually\" id=\"sk-estimator-id-6\" type=\"checkbox\" ><label for=\"sk-estimator-id-6\" class=\"sk-toggleable__label sk-toggleable__label-arrow\">DecisionTreeClassifier</label><div class=\"sk-toggleable__content\"><pre>DecisionTreeClassifier()</pre></div></div></div></div></div></div></div></div></div></div>"
      ],
      "text/plain": [
       "GridSearchCV(cv=5, estimator=DecisionTreeClassifier(),\n",
       "             param_grid={'criterion': ['gini', 'entropy'],\n",
       "                         'max_depth': range(2, 11),\n",
       "                         'min_samples_split': range(25, 50, 100)},\n",
       "             scoring='accuracy')"
      ]
     },
     "execution_count": 108,
     "metadata": {},
     "output_type": "execute_result"
    }
   ],
   "source": [
    "grid_dt.fit(X_train_resampling,y_train_resampling)"
   ]
  },
  {
   "cell_type": "code",
   "execution_count": 109,
   "id": "23b9a076",
   "metadata": {},
   "outputs": [
    {
     "data": {
      "text/plain": [
       "{'criterion': 'gini', 'max_depth': 5, 'min_samples_split': 25}"
      ]
     },
     "execution_count": 109,
     "metadata": {},
     "output_type": "execute_result"
    }
   ],
   "source": [
    "grid_dt.best_params_"
   ]
  },
  {
   "cell_type": "code",
   "execution_count": 110,
   "id": "472d8aa5",
   "metadata": {},
   "outputs": [
    {
     "name": "stdout",
     "output_type": "stream",
     "text": [
      "Accuracy score of Decision Tree Model on Test Data: 81.41263940520446\n",
      "Accuracy score of Decision Tree Model on Train Data: 83.51920693928129\n"
     ]
    }
   ],
   "source": [
    "dt = DecisionTreeClassifier(criterion= 'gini', max_depth= 5, min_samples_split =  25)\n",
    "dt.fit(X_train_resampling,y_train_resampling)\n",
    "\n",
    "pred_dt = dt.predict(X_test_resampling)\n",
    "accu = accuracy_score(y_test_resampling,pred_dt)\n",
    "print(\"Accuracy score of Decision Tree Model on Test Data:\",accu*100)\n",
    "\n",
    "train_pred_dt = dt.predict(X_train_resampling)\n",
    "accu = accuracy_score(y_train_resampling,train_pred_dt)\n",
    "print(\"Accuracy score of Decision Tree Model on Train Data:\",accu*100)"
   ]
  },
  {
   "cell_type": "code",
   "execution_count": 111,
   "id": "ae7f2698",
   "metadata": {},
   "outputs": [
    {
     "name": "stdout",
     "output_type": "stream",
     "text": [
      "Cross Validation Score of DT Model: 78.32\n"
     ]
    }
   ],
   "source": [
    "score_dt = cross_val_score(dt,X_train_resampling,y_train_resampling, cv= 5)\n",
    "print(\"Cross Validation Score of DT Model:\", (score_dt.mean()*100).round(2))"
   ]
  },
  {
   "cell_type": "markdown",
   "id": "d9627bbb",
   "metadata": {},
   "source": [
    "### Random Forest :"
   ]
  },
  {
   "cell_type": "code",
   "execution_count": 112,
   "id": "19afaf0b",
   "metadata": {},
   "outputs": [],
   "source": [
    "from sklearn.model_selection import GridSearchCV # get the best combination of hyper parameters\n",
    "search_dict = {\n",
    "              \"criterion\" : [\"gini\" , \"entropy\"],\n",
    "              \"max_depth\" : range(2,11), \n",
    "              \"min_samples_split\" : range(25,50 ,100),\n",
    "              \"bootstrap\": [True, False]}\n",
    "\n",
    "# Search_dict  = dictionary created by the user \n",
    "\n",
    "rfc = RandomForestClassifier()\n",
    "grid_rfc = GridSearchCV(rfc , param_grid= search_dict, cv=5, scoring='accuracy')"
   ]
  },
  {
   "cell_type": "code",
   "execution_count": 113,
   "id": "b08dd764",
   "metadata": {},
   "outputs": [
    {
     "data": {
      "text/html": [
       "<style>#sk-container-id-3 {color: black;}#sk-container-id-3 pre{padding: 0;}#sk-container-id-3 div.sk-toggleable {background-color: white;}#sk-container-id-3 label.sk-toggleable__label {cursor: pointer;display: block;width: 100%;margin-bottom: 0;padding: 0.3em;box-sizing: border-box;text-align: center;}#sk-container-id-3 label.sk-toggleable__label-arrow:before {content: \"▸\";float: left;margin-right: 0.25em;color: #696969;}#sk-container-id-3 label.sk-toggleable__label-arrow:hover:before {color: black;}#sk-container-id-3 div.sk-estimator:hover label.sk-toggleable__label-arrow:before {color: black;}#sk-container-id-3 div.sk-toggleable__content {max-height: 0;max-width: 0;overflow: hidden;text-align: left;background-color: #f0f8ff;}#sk-container-id-3 div.sk-toggleable__content pre {margin: 0.2em;color: black;border-radius: 0.25em;background-color: #f0f8ff;}#sk-container-id-3 input.sk-toggleable__control:checked~div.sk-toggleable__content {max-height: 200px;max-width: 100%;overflow: auto;}#sk-container-id-3 input.sk-toggleable__control:checked~label.sk-toggleable__label-arrow:before {content: \"▾\";}#sk-container-id-3 div.sk-estimator input.sk-toggleable__control:checked~label.sk-toggleable__label {background-color: #d4ebff;}#sk-container-id-3 div.sk-label input.sk-toggleable__control:checked~label.sk-toggleable__label {background-color: #d4ebff;}#sk-container-id-3 input.sk-hidden--visually {border: 0;clip: rect(1px 1px 1px 1px);clip: rect(1px, 1px, 1px, 1px);height: 1px;margin: -1px;overflow: hidden;padding: 0;position: absolute;width: 1px;}#sk-container-id-3 div.sk-estimator {font-family: monospace;background-color: #f0f8ff;border: 1px dotted black;border-radius: 0.25em;box-sizing: border-box;margin-bottom: 0.5em;}#sk-container-id-3 div.sk-estimator:hover {background-color: #d4ebff;}#sk-container-id-3 div.sk-parallel-item::after {content: \"\";width: 100%;border-bottom: 1px solid gray;flex-grow: 1;}#sk-container-id-3 div.sk-label:hover label.sk-toggleable__label {background-color: #d4ebff;}#sk-container-id-3 div.sk-serial::before {content: \"\";position: absolute;border-left: 1px solid gray;box-sizing: border-box;top: 0;bottom: 0;left: 50%;z-index: 0;}#sk-container-id-3 div.sk-serial {display: flex;flex-direction: column;align-items: center;background-color: white;padding-right: 0.2em;padding-left: 0.2em;position: relative;}#sk-container-id-3 div.sk-item {position: relative;z-index: 1;}#sk-container-id-3 div.sk-parallel {display: flex;align-items: stretch;justify-content: center;background-color: white;position: relative;}#sk-container-id-3 div.sk-item::before, #sk-container-id-3 div.sk-parallel-item::before {content: \"\";position: absolute;border-left: 1px solid gray;box-sizing: border-box;top: 0;bottom: 0;left: 50%;z-index: -1;}#sk-container-id-3 div.sk-parallel-item {display: flex;flex-direction: column;z-index: 1;position: relative;background-color: white;}#sk-container-id-3 div.sk-parallel-item:first-child::after {align-self: flex-end;width: 50%;}#sk-container-id-3 div.sk-parallel-item:last-child::after {align-self: flex-start;width: 50%;}#sk-container-id-3 div.sk-parallel-item:only-child::after {width: 0;}#sk-container-id-3 div.sk-dashed-wrapped {border: 1px dashed gray;margin: 0 0.4em 0.5em 0.4em;box-sizing: border-box;padding-bottom: 0.4em;background-color: white;}#sk-container-id-3 div.sk-label label {font-family: monospace;font-weight: bold;display: inline-block;line-height: 1.2em;}#sk-container-id-3 div.sk-label-container {text-align: center;}#sk-container-id-3 div.sk-container {/* jupyter's `normalize.less` sets `[hidden] { display: none; }` but bootstrap.min.css set `[hidden] { display: none !important; }` so we also need the `!important` here to be able to override the default hidden behavior on the sphinx rendered scikit-learn.org. See: https://github.com/scikit-learn/scikit-learn/issues/21755 */display: inline-block !important;position: relative;}#sk-container-id-3 div.sk-text-repr-fallback {display: none;}</style><div id=\"sk-container-id-3\" class=\"sk-top-container\"><div class=\"sk-text-repr-fallback\"><pre>GridSearchCV(cv=5, estimator=RandomForestClassifier(),\n",
       "             param_grid={&#x27;bootstrap&#x27;: [True, False],\n",
       "                         &#x27;criterion&#x27;: [&#x27;gini&#x27;, &#x27;entropy&#x27;],\n",
       "                         &#x27;max_depth&#x27;: range(2, 11),\n",
       "                         &#x27;min_samples_split&#x27;: range(25, 50, 100)},\n",
       "             scoring=&#x27;accuracy&#x27;)</pre><b>In a Jupyter environment, please rerun this cell to show the HTML representation or trust the notebook. <br />On GitHub, the HTML representation is unable to render, please try loading this page with nbviewer.org.</b></div><div class=\"sk-container\" hidden><div class=\"sk-item sk-dashed-wrapped\"><div class=\"sk-label-container\"><div class=\"sk-label sk-toggleable\"><input class=\"sk-toggleable__control sk-hidden--visually\" id=\"sk-estimator-id-7\" type=\"checkbox\" ><label for=\"sk-estimator-id-7\" class=\"sk-toggleable__label sk-toggleable__label-arrow\">GridSearchCV</label><div class=\"sk-toggleable__content\"><pre>GridSearchCV(cv=5, estimator=RandomForestClassifier(),\n",
       "             param_grid={&#x27;bootstrap&#x27;: [True, False],\n",
       "                         &#x27;criterion&#x27;: [&#x27;gini&#x27;, &#x27;entropy&#x27;],\n",
       "                         &#x27;max_depth&#x27;: range(2, 11),\n",
       "                         &#x27;min_samples_split&#x27;: range(25, 50, 100)},\n",
       "             scoring=&#x27;accuracy&#x27;)</pre></div></div></div><div class=\"sk-parallel\"><div class=\"sk-parallel-item\"><div class=\"sk-item\"><div class=\"sk-label-container\"><div class=\"sk-label sk-toggleable\"><input class=\"sk-toggleable__control sk-hidden--visually\" id=\"sk-estimator-id-8\" type=\"checkbox\" ><label for=\"sk-estimator-id-8\" class=\"sk-toggleable__label sk-toggleable__label-arrow\">estimator: RandomForestClassifier</label><div class=\"sk-toggleable__content\"><pre>RandomForestClassifier()</pre></div></div></div><div class=\"sk-serial\"><div class=\"sk-item\"><div class=\"sk-estimator sk-toggleable\"><input class=\"sk-toggleable__control sk-hidden--visually\" id=\"sk-estimator-id-9\" type=\"checkbox\" ><label for=\"sk-estimator-id-9\" class=\"sk-toggleable__label sk-toggleable__label-arrow\">RandomForestClassifier</label><div class=\"sk-toggleable__content\"><pre>RandomForestClassifier()</pre></div></div></div></div></div></div></div></div></div></div>"
      ],
      "text/plain": [
       "GridSearchCV(cv=5, estimator=RandomForestClassifier(),\n",
       "             param_grid={'bootstrap': [True, False],\n",
       "                         'criterion': ['gini', 'entropy'],\n",
       "                         'max_depth': range(2, 11),\n",
       "                         'min_samples_split': range(25, 50, 100)},\n",
       "             scoring='accuracy')"
      ]
     },
     "execution_count": 113,
     "metadata": {},
     "output_type": "execute_result"
    }
   ],
   "source": [
    "grid_rfc.fit(X_train_resampling,y_train_resampling)"
   ]
  },
  {
   "cell_type": "code",
   "execution_count": 114,
   "id": "f2517e8d",
   "metadata": {},
   "outputs": [
    {
     "data": {
      "text/plain": [
       "{'bootstrap': False,\n",
       " 'criterion': 'gini',\n",
       " 'max_depth': 10,\n",
       " 'min_samples_split': 25}"
      ]
     },
     "execution_count": 114,
     "metadata": {},
     "output_type": "execute_result"
    }
   ],
   "source": [
    "grid_rfc.best_params_"
   ]
  },
  {
   "cell_type": "code",
   "execution_count": 115,
   "id": "629779fb",
   "metadata": {},
   "outputs": [
    {
     "name": "stdout",
     "output_type": "stream",
     "text": [
      "Accuracy score of Random Forest Model on Test Data: 85.50185873605948\n",
      "Accuracy score of Random Forest Model on Train Data: 89.59107806691449\n"
     ]
    }
   ],
   "source": [
    "rfc = RandomForestClassifier(criterion= 'gini', max_depth= 10, min_samples_split =25,bootstrap=False)\n",
    "rfc.fit(X_train_resampling,y_train_resampling)\n",
    "\n",
    "pred_rfc = rfc.predict(X_test_resampling)\n",
    "accu = accuracy_score(y_test_resampling,pred_rfc)\n",
    "print(\"Accuracy score of Random Forest Model on Test Data:\",accu*100)\n",
    "\n",
    "train_pred_rfc = rfc.predict(X_train_resampling)\n",
    "accu = accuracy_score(y_train_resampling,train_pred_rfc)\n",
    "print(\"Accuracy score of Random Forest Model on Train Data:\",accu*100)"
   ]
  },
  {
   "cell_type": "code",
   "execution_count": 116,
   "id": "451ac493",
   "metadata": {},
   "outputs": [
    {
     "name": "stdout",
     "output_type": "stream",
     "text": [
      "Cross Validation Score of RFC Model: 81.66\n"
     ]
    }
   ],
   "source": [
    "score_rfc = cross_val_score(rfc,X_train_resampling,y_train_resampling, cv= 5)\n",
    "print(\"Cross Validation Score of RFC Model:\", (score_rfc.mean()*100).round(2))"
   ]
  },
  {
   "cell_type": "markdown",
   "id": "e8bfcf9e",
   "metadata": {},
   "source": [
    "### KNN Model:"
   ]
  },
  {
   "cell_type": "code",
   "execution_count": 117,
   "id": "1c04ad87",
   "metadata": {},
   "outputs": [],
   "source": [
    "from sklearn.model_selection import GridSearchCV # get the best combination of hyper parameters\n",
    "search_dict = {'n_neighbors': [3, 5, 7, 9],\n",
    "               'weights': ['uniform', 'distance'],\n",
    "               'metric': ['euclidean', 'manhattan']}\n",
    "               \n",
    "# Search_dict  = dictionary created by the user \n",
    "\n",
    "knn = KNeighborsClassifier()\n",
    "grid_knn = GridSearchCV(knn , param_grid= search_dict, cv = 5 ,scoring = 'accuracy')\n",
    "\n",
    " \n",
    "#  n_neighbors : Number of neighbors to use\n",
    "#  weights     : Weight function used in prediction ('uniform', 'distance')\n",
    "#  metric      : Distance"
   ]
  },
  {
   "cell_type": "code",
   "execution_count": 118,
   "id": "b292473e",
   "metadata": {},
   "outputs": [
    {
     "data": {
      "text/html": [
       "<style>#sk-container-id-4 {color: black;}#sk-container-id-4 pre{padding: 0;}#sk-container-id-4 div.sk-toggleable {background-color: white;}#sk-container-id-4 label.sk-toggleable__label {cursor: pointer;display: block;width: 100%;margin-bottom: 0;padding: 0.3em;box-sizing: border-box;text-align: center;}#sk-container-id-4 label.sk-toggleable__label-arrow:before {content: \"▸\";float: left;margin-right: 0.25em;color: #696969;}#sk-container-id-4 label.sk-toggleable__label-arrow:hover:before {color: black;}#sk-container-id-4 div.sk-estimator:hover label.sk-toggleable__label-arrow:before {color: black;}#sk-container-id-4 div.sk-toggleable__content {max-height: 0;max-width: 0;overflow: hidden;text-align: left;background-color: #f0f8ff;}#sk-container-id-4 div.sk-toggleable__content pre {margin: 0.2em;color: black;border-radius: 0.25em;background-color: #f0f8ff;}#sk-container-id-4 input.sk-toggleable__control:checked~div.sk-toggleable__content {max-height: 200px;max-width: 100%;overflow: auto;}#sk-container-id-4 input.sk-toggleable__control:checked~label.sk-toggleable__label-arrow:before {content: \"▾\";}#sk-container-id-4 div.sk-estimator input.sk-toggleable__control:checked~label.sk-toggleable__label {background-color: #d4ebff;}#sk-container-id-4 div.sk-label input.sk-toggleable__control:checked~label.sk-toggleable__label {background-color: #d4ebff;}#sk-container-id-4 input.sk-hidden--visually {border: 0;clip: rect(1px 1px 1px 1px);clip: rect(1px, 1px, 1px, 1px);height: 1px;margin: -1px;overflow: hidden;padding: 0;position: absolute;width: 1px;}#sk-container-id-4 div.sk-estimator {font-family: monospace;background-color: #f0f8ff;border: 1px dotted black;border-radius: 0.25em;box-sizing: border-box;margin-bottom: 0.5em;}#sk-container-id-4 div.sk-estimator:hover {background-color: #d4ebff;}#sk-container-id-4 div.sk-parallel-item::after {content: \"\";width: 100%;border-bottom: 1px solid gray;flex-grow: 1;}#sk-container-id-4 div.sk-label:hover label.sk-toggleable__label {background-color: #d4ebff;}#sk-container-id-4 div.sk-serial::before {content: \"\";position: absolute;border-left: 1px solid gray;box-sizing: border-box;top: 0;bottom: 0;left: 50%;z-index: 0;}#sk-container-id-4 div.sk-serial {display: flex;flex-direction: column;align-items: center;background-color: white;padding-right: 0.2em;padding-left: 0.2em;position: relative;}#sk-container-id-4 div.sk-item {position: relative;z-index: 1;}#sk-container-id-4 div.sk-parallel {display: flex;align-items: stretch;justify-content: center;background-color: white;position: relative;}#sk-container-id-4 div.sk-item::before, #sk-container-id-4 div.sk-parallel-item::before {content: \"\";position: absolute;border-left: 1px solid gray;box-sizing: border-box;top: 0;bottom: 0;left: 50%;z-index: -1;}#sk-container-id-4 div.sk-parallel-item {display: flex;flex-direction: column;z-index: 1;position: relative;background-color: white;}#sk-container-id-4 div.sk-parallel-item:first-child::after {align-self: flex-end;width: 50%;}#sk-container-id-4 div.sk-parallel-item:last-child::after {align-self: flex-start;width: 50%;}#sk-container-id-4 div.sk-parallel-item:only-child::after {width: 0;}#sk-container-id-4 div.sk-dashed-wrapped {border: 1px dashed gray;margin: 0 0.4em 0.5em 0.4em;box-sizing: border-box;padding-bottom: 0.4em;background-color: white;}#sk-container-id-4 div.sk-label label {font-family: monospace;font-weight: bold;display: inline-block;line-height: 1.2em;}#sk-container-id-4 div.sk-label-container {text-align: center;}#sk-container-id-4 div.sk-container {/* jupyter's `normalize.less` sets `[hidden] { display: none; }` but bootstrap.min.css set `[hidden] { display: none !important; }` so we also need the `!important` here to be able to override the default hidden behavior on the sphinx rendered scikit-learn.org. See: https://github.com/scikit-learn/scikit-learn/issues/21755 */display: inline-block !important;position: relative;}#sk-container-id-4 div.sk-text-repr-fallback {display: none;}</style><div id=\"sk-container-id-4\" class=\"sk-top-container\"><div class=\"sk-text-repr-fallback\"><pre>GridSearchCV(cv=5, estimator=KNeighborsClassifier(),\n",
       "             param_grid={&#x27;metric&#x27;: [&#x27;euclidean&#x27;, &#x27;manhattan&#x27;],\n",
       "                         &#x27;n_neighbors&#x27;: [3, 5, 7, 9],\n",
       "                         &#x27;weights&#x27;: [&#x27;uniform&#x27;, &#x27;distance&#x27;]},\n",
       "             scoring=&#x27;accuracy&#x27;)</pre><b>In a Jupyter environment, please rerun this cell to show the HTML representation or trust the notebook. <br />On GitHub, the HTML representation is unable to render, please try loading this page with nbviewer.org.</b></div><div class=\"sk-container\" hidden><div class=\"sk-item sk-dashed-wrapped\"><div class=\"sk-label-container\"><div class=\"sk-label sk-toggleable\"><input class=\"sk-toggleable__control sk-hidden--visually\" id=\"sk-estimator-id-10\" type=\"checkbox\" ><label for=\"sk-estimator-id-10\" class=\"sk-toggleable__label sk-toggleable__label-arrow\">GridSearchCV</label><div class=\"sk-toggleable__content\"><pre>GridSearchCV(cv=5, estimator=KNeighborsClassifier(),\n",
       "             param_grid={&#x27;metric&#x27;: [&#x27;euclidean&#x27;, &#x27;manhattan&#x27;],\n",
       "                         &#x27;n_neighbors&#x27;: [3, 5, 7, 9],\n",
       "                         &#x27;weights&#x27;: [&#x27;uniform&#x27;, &#x27;distance&#x27;]},\n",
       "             scoring=&#x27;accuracy&#x27;)</pre></div></div></div><div class=\"sk-parallel\"><div class=\"sk-parallel-item\"><div class=\"sk-item\"><div class=\"sk-label-container\"><div class=\"sk-label sk-toggleable\"><input class=\"sk-toggleable__control sk-hidden--visually\" id=\"sk-estimator-id-11\" type=\"checkbox\" ><label for=\"sk-estimator-id-11\" class=\"sk-toggleable__label sk-toggleable__label-arrow\">estimator: KNeighborsClassifier</label><div class=\"sk-toggleable__content\"><pre>KNeighborsClassifier()</pre></div></div></div><div class=\"sk-serial\"><div class=\"sk-item\"><div class=\"sk-estimator sk-toggleable\"><input class=\"sk-toggleable__control sk-hidden--visually\" id=\"sk-estimator-id-12\" type=\"checkbox\" ><label for=\"sk-estimator-id-12\" class=\"sk-toggleable__label sk-toggleable__label-arrow\">KNeighborsClassifier</label><div class=\"sk-toggleable__content\"><pre>KNeighborsClassifier()</pre></div></div></div></div></div></div></div></div></div></div>"
      ],
      "text/plain": [
       "GridSearchCV(cv=5, estimator=KNeighborsClassifier(),\n",
       "             param_grid={'metric': ['euclidean', 'manhattan'],\n",
       "                         'n_neighbors': [3, 5, 7, 9],\n",
       "                         'weights': ['uniform', 'distance']},\n",
       "             scoring='accuracy')"
      ]
     },
     "execution_count": 118,
     "metadata": {},
     "output_type": "execute_result"
    }
   ],
   "source": [
    "grid_knn.fit(X_train_resampling,y_train_resampling)"
   ]
  },
  {
   "cell_type": "code",
   "execution_count": 119,
   "id": "8a14862e",
   "metadata": {},
   "outputs": [
    {
     "data": {
      "text/plain": [
       "{'metric': 'manhattan', 'n_neighbors': 5, 'weights': 'distance'}"
      ]
     },
     "execution_count": 119,
     "metadata": {},
     "output_type": "execute_result"
    }
   ],
   "source": [
    "grid_knn.best_params_"
   ]
  },
  {
   "cell_type": "code",
   "execution_count": 120,
   "id": "73aa60b7",
   "metadata": {},
   "outputs": [
    {
     "name": "stdout",
     "output_type": "stream",
     "text": [
      "Accuracy score of KNN Model on Test Data: 85.87360594795538\n",
      "Accuracy score of KNN Model on Train Data: 100.0\n"
     ]
    }
   ],
   "source": [
    "knn = KNeighborsClassifier(n_neighbors=5, weights='distance', metric='manhattan')\n",
    "knn.fit(X_train_resampling,y_train_resampling)\n",
    "\n",
    "pred_knn = knn.predict(X_test_resampling)\n",
    "accu = accuracy_score(y_test_resampling,pred_knn)\n",
    "print(\"Accuracy score of KNN Model on Test Data:\",accu*100)\n",
    "\n",
    "train_pred_knn = knn.predict(X_train_resampling)\n",
    "accu = accuracy_score(y_train_resampling,train_pred_knn)\n",
    "print(\"Accuracy score of KNN Model on Train Data:\",accu*100)"
   ]
  },
  {
   "cell_type": "code",
   "execution_count": 121,
   "id": "78277918",
   "metadata": {},
   "outputs": [
    {
     "name": "stdout",
     "output_type": "stream",
     "text": [
      "Cross Validation Score of KNN Model after over sampling: 81.79\n"
     ]
    }
   ],
   "source": [
    "score_knn = cross_val_score(knn,X_train_resampling,y_train_resampling, cv= 5)\n",
    "print(\"Cross Validation Score of KNN Model after over sampling:\", (score_knn.mean()*100).round(2))"
   ]
  },
  {
   "cell_type": "markdown",
   "id": "2f5a4edd",
   "metadata": {},
   "source": [
    "### SVM :"
   ]
  },
  {
   "cell_type": "code",
   "execution_count": 122,
   "id": "1de4753e",
   "metadata": {},
   "outputs": [],
   "source": [
    "from sklearn.model_selection import GridSearchCV\n",
    "\n",
    "# Define hyperparameters\n",
    "search_dict = {\n",
    "    'C': [0.1, 1, 10, 100],\n",
    "    'gamma': ['scale', 'auto'],\n",
    "    'kernel': ['linear', 'rbf', 'poly', 'sigmoid'],\n",
    "    'degree': [3, 4, 5]}                            # Only applicable for 'poly' kernel\n",
    "\n",
    "\n",
    "# Search_dict  = dictionary created by the user \n",
    "\n",
    "svm = SVC()\n",
    "grid_svm = GridSearchCV(svm , param_grid= search_dict, cv = 5 ,scoring = 'accuracy')"
   ]
  },
  {
   "cell_type": "code",
   "execution_count": 123,
   "id": "2857f949",
   "metadata": {},
   "outputs": [
    {
     "data": {
      "text/html": [
       "<style>#sk-container-id-5 {color: black;}#sk-container-id-5 pre{padding: 0;}#sk-container-id-5 div.sk-toggleable {background-color: white;}#sk-container-id-5 label.sk-toggleable__label {cursor: pointer;display: block;width: 100%;margin-bottom: 0;padding: 0.3em;box-sizing: border-box;text-align: center;}#sk-container-id-5 label.sk-toggleable__label-arrow:before {content: \"▸\";float: left;margin-right: 0.25em;color: #696969;}#sk-container-id-5 label.sk-toggleable__label-arrow:hover:before {color: black;}#sk-container-id-5 div.sk-estimator:hover label.sk-toggleable__label-arrow:before {color: black;}#sk-container-id-5 div.sk-toggleable__content {max-height: 0;max-width: 0;overflow: hidden;text-align: left;background-color: #f0f8ff;}#sk-container-id-5 div.sk-toggleable__content pre {margin: 0.2em;color: black;border-radius: 0.25em;background-color: #f0f8ff;}#sk-container-id-5 input.sk-toggleable__control:checked~div.sk-toggleable__content {max-height: 200px;max-width: 100%;overflow: auto;}#sk-container-id-5 input.sk-toggleable__control:checked~label.sk-toggleable__label-arrow:before {content: \"▾\";}#sk-container-id-5 div.sk-estimator input.sk-toggleable__control:checked~label.sk-toggleable__label {background-color: #d4ebff;}#sk-container-id-5 div.sk-label input.sk-toggleable__control:checked~label.sk-toggleable__label {background-color: #d4ebff;}#sk-container-id-5 input.sk-hidden--visually {border: 0;clip: rect(1px 1px 1px 1px);clip: rect(1px, 1px, 1px, 1px);height: 1px;margin: -1px;overflow: hidden;padding: 0;position: absolute;width: 1px;}#sk-container-id-5 div.sk-estimator {font-family: monospace;background-color: #f0f8ff;border: 1px dotted black;border-radius: 0.25em;box-sizing: border-box;margin-bottom: 0.5em;}#sk-container-id-5 div.sk-estimator:hover {background-color: #d4ebff;}#sk-container-id-5 div.sk-parallel-item::after {content: \"\";width: 100%;border-bottom: 1px solid gray;flex-grow: 1;}#sk-container-id-5 div.sk-label:hover label.sk-toggleable__label {background-color: #d4ebff;}#sk-container-id-5 div.sk-serial::before {content: \"\";position: absolute;border-left: 1px solid gray;box-sizing: border-box;top: 0;bottom: 0;left: 50%;z-index: 0;}#sk-container-id-5 div.sk-serial {display: flex;flex-direction: column;align-items: center;background-color: white;padding-right: 0.2em;padding-left: 0.2em;position: relative;}#sk-container-id-5 div.sk-item {position: relative;z-index: 1;}#sk-container-id-5 div.sk-parallel {display: flex;align-items: stretch;justify-content: center;background-color: white;position: relative;}#sk-container-id-5 div.sk-item::before, #sk-container-id-5 div.sk-parallel-item::before {content: \"\";position: absolute;border-left: 1px solid gray;box-sizing: border-box;top: 0;bottom: 0;left: 50%;z-index: -1;}#sk-container-id-5 div.sk-parallel-item {display: flex;flex-direction: column;z-index: 1;position: relative;background-color: white;}#sk-container-id-5 div.sk-parallel-item:first-child::after {align-self: flex-end;width: 50%;}#sk-container-id-5 div.sk-parallel-item:last-child::after {align-self: flex-start;width: 50%;}#sk-container-id-5 div.sk-parallel-item:only-child::after {width: 0;}#sk-container-id-5 div.sk-dashed-wrapped {border: 1px dashed gray;margin: 0 0.4em 0.5em 0.4em;box-sizing: border-box;padding-bottom: 0.4em;background-color: white;}#sk-container-id-5 div.sk-label label {font-family: monospace;font-weight: bold;display: inline-block;line-height: 1.2em;}#sk-container-id-5 div.sk-label-container {text-align: center;}#sk-container-id-5 div.sk-container {/* jupyter's `normalize.less` sets `[hidden] { display: none; }` but bootstrap.min.css set `[hidden] { display: none !important; }` so we also need the `!important` here to be able to override the default hidden behavior on the sphinx rendered scikit-learn.org. See: https://github.com/scikit-learn/scikit-learn/issues/21755 */display: inline-block !important;position: relative;}#sk-container-id-5 div.sk-text-repr-fallback {display: none;}</style><div id=\"sk-container-id-5\" class=\"sk-top-container\"><div class=\"sk-text-repr-fallback\"><pre>GridSearchCV(cv=5, estimator=SVC(),\n",
       "             param_grid={&#x27;C&#x27;: [0.1, 1, 10, 100], &#x27;degree&#x27;: [3, 4, 5],\n",
       "                         &#x27;gamma&#x27;: [&#x27;scale&#x27;, &#x27;auto&#x27;],\n",
       "                         &#x27;kernel&#x27;: [&#x27;linear&#x27;, &#x27;rbf&#x27;, &#x27;poly&#x27;, &#x27;sigmoid&#x27;]},\n",
       "             scoring=&#x27;accuracy&#x27;)</pre><b>In a Jupyter environment, please rerun this cell to show the HTML representation or trust the notebook. <br />On GitHub, the HTML representation is unable to render, please try loading this page with nbviewer.org.</b></div><div class=\"sk-container\" hidden><div class=\"sk-item sk-dashed-wrapped\"><div class=\"sk-label-container\"><div class=\"sk-label sk-toggleable\"><input class=\"sk-toggleable__control sk-hidden--visually\" id=\"sk-estimator-id-13\" type=\"checkbox\" ><label for=\"sk-estimator-id-13\" class=\"sk-toggleable__label sk-toggleable__label-arrow\">GridSearchCV</label><div class=\"sk-toggleable__content\"><pre>GridSearchCV(cv=5, estimator=SVC(),\n",
       "             param_grid={&#x27;C&#x27;: [0.1, 1, 10, 100], &#x27;degree&#x27;: [3, 4, 5],\n",
       "                         &#x27;gamma&#x27;: [&#x27;scale&#x27;, &#x27;auto&#x27;],\n",
       "                         &#x27;kernel&#x27;: [&#x27;linear&#x27;, &#x27;rbf&#x27;, &#x27;poly&#x27;, &#x27;sigmoid&#x27;]},\n",
       "             scoring=&#x27;accuracy&#x27;)</pre></div></div></div><div class=\"sk-parallel\"><div class=\"sk-parallel-item\"><div class=\"sk-item\"><div class=\"sk-label-container\"><div class=\"sk-label sk-toggleable\"><input class=\"sk-toggleable__control sk-hidden--visually\" id=\"sk-estimator-id-14\" type=\"checkbox\" ><label for=\"sk-estimator-id-14\" class=\"sk-toggleable__label sk-toggleable__label-arrow\">estimator: SVC</label><div class=\"sk-toggleable__content\"><pre>SVC()</pre></div></div></div><div class=\"sk-serial\"><div class=\"sk-item\"><div class=\"sk-estimator sk-toggleable\"><input class=\"sk-toggleable__control sk-hidden--visually\" id=\"sk-estimator-id-15\" type=\"checkbox\" ><label for=\"sk-estimator-id-15\" class=\"sk-toggleable__label sk-toggleable__label-arrow\">SVC</label><div class=\"sk-toggleable__content\"><pre>SVC()</pre></div></div></div></div></div></div></div></div></div></div>"
      ],
      "text/plain": [
       "GridSearchCV(cv=5, estimator=SVC(),\n",
       "             param_grid={'C': [0.1, 1, 10, 100], 'degree': [3, 4, 5],\n",
       "                         'gamma': ['scale', 'auto'],\n",
       "                         'kernel': ['linear', 'rbf', 'poly', 'sigmoid']},\n",
       "             scoring='accuracy')"
      ]
     },
     "execution_count": 123,
     "metadata": {},
     "output_type": "execute_result"
    }
   ],
   "source": [
    "grid_svm.fit(X_train_resampling,y_train_resampling)"
   ]
  },
  {
   "cell_type": "code",
   "execution_count": 124,
   "id": "f1d41518",
   "metadata": {},
   "outputs": [
    {
     "data": {
      "text/plain": [
       "{'C': 10, 'degree': 3, 'gamma': 'scale', 'kernel': 'rbf'}"
      ]
     },
     "execution_count": 124,
     "metadata": {},
     "output_type": "execute_result"
    }
   ],
   "source": [
    "grid_svm.best_params_"
   ]
  },
  {
   "cell_type": "code",
   "execution_count": 125,
   "id": "8bbcdfd5",
   "metadata": {},
   "outputs": [
    {
     "name": "stdout",
     "output_type": "stream",
     "text": [
      "Accuracy score of SVM Model on Test Data: 85.5\n",
      "Accuracy score of SVM Model on Train Data: 90.83\n"
     ]
    }
   ],
   "source": [
    "svm =SVC(C=10,gamma='scale',kernel='rbf')\n",
    "svm.fit(X_train_resampling,y_train_resampling)\n",
    "\n",
    "pred_svm = svm.predict(X_test_resampling)\n",
    "accu = accuracy_score(y_test_resampling,pred_svm)\n",
    "print(\"Accuracy score of SVM Model on Test Data:\",(accu*100).round(2))\n",
    "\n",
    "train_pred_svm = svm.predict(X_train_resampling)\n",
    "accu = accuracy_score(y_train_resampling,train_pred_svm)\n",
    "print(\"Accuracy score of SVM Model on Train Data:\",(accu*100).round(2))"
   ]
  },
  {
   "cell_type": "code",
   "execution_count": 126,
   "id": "84b3832b",
   "metadata": {},
   "outputs": [
    {
     "name": "stdout",
     "output_type": "stream",
     "text": [
      "Cross Validation Score of SVM Model after over sampling: 80.42\n"
     ]
    }
   ],
   "source": [
    "score_svm = cross_val_score(svm,X_train_resampling,y_train_resampling, cv= 5)\n",
    "print(\"Cross Validation Score of SVM Model after over sampling:\", (score_svm.mean()*100).round(2))"
   ]
  },
  {
   "cell_type": "code",
   "execution_count": 127,
   "id": "69c8e441",
   "metadata": {},
   "outputs": [
    {
     "name": "stdout",
     "output_type": "stream",
     "text": [
      "Classification report for Logistic Regression Model:\n",
      "              precision    recall  f1-score   support\n",
      "\n",
      "           0       0.85      0.71      0.77       124\n",
      "           1       0.78      0.89      0.83       145\n",
      "\n",
      "    accuracy                           0.81       269\n",
      "   macro avg       0.81      0.80      0.80       269\n",
      "weighted avg       0.81      0.81      0.80       269\n",
      "\n",
      "\n",
      "\n",
      "Classification report for Decision Tree Model:\n",
      "              precision    recall  f1-score   support\n",
      "\n",
      "           0       0.82      0.77      0.79       124\n",
      "           1       0.81      0.86      0.83       145\n",
      "\n",
      "    accuracy                           0.81       269\n",
      "   macro avg       0.81      0.81      0.81       269\n",
      "weighted avg       0.81      0.81      0.81       269\n",
      "\n",
      "\n",
      "\n",
      "Classification report for Random Forest Model:\n",
      "              precision    recall  f1-score   support\n",
      "\n",
      "           0       0.83      0.85      0.84       124\n",
      "           1       0.87      0.86      0.86       145\n",
      "\n",
      "    accuracy                           0.86       269\n",
      "   macro avg       0.85      0.86      0.85       269\n",
      "weighted avg       0.86      0.86      0.86       269\n",
      "\n",
      "\n",
      "\n",
      "Classification report for KNN Model:\n",
      "              precision    recall  f1-score   support\n",
      "\n",
      "           0       0.80      0.93      0.86       124\n",
      "           1       0.93      0.80      0.86       145\n",
      "\n",
      "    accuracy                           0.86       269\n",
      "   macro avg       0.86      0.86      0.86       269\n",
      "weighted avg       0.87      0.86      0.86       269\n",
      "\n",
      "\n",
      "\n",
      "Classification report for SVM Model:\n",
      "              precision    recall  f1-score   support\n",
      "\n",
      "           0       0.81      0.90      0.85       124\n",
      "           1       0.91      0.81      0.86       145\n",
      "\n",
      "    accuracy                           0.86       269\n",
      "   macro avg       0.86      0.86      0.85       269\n",
      "weighted avg       0.86      0.86      0.86       269\n",
      "\n"
     ]
    }
   ],
   "source": [
    "print(\"Classification report for Logistic Regression Model:\")\n",
    "print(classification_report(y_test_resampling,pred_logreg))\n",
    "print(\"\\n\")\n",
    "print(\"Classification report for Decision Tree Model:\")\n",
    "print(classification_report(y_test_resampling,pred_dt))\n",
    "print(\"\\n\")\n",
    "print(\"Classification report for Random Forest Model:\")\n",
    "print(classification_report(y_test_resampling,pred_rfc))\n",
    "print(\"\\n\")\n",
    "print(\"Classification report for KNN Model:\")\n",
    "print(classification_report(y_test_resampling,pred_knn))\n",
    "print(\"\\n\")\n",
    "print(\"Classification report for SVM Model:\")\n",
    "print(classification_report(y_test_resampling,pred_svm))"
   ]
  },
  {
   "cell_type": "code",
   "execution_count": 159,
   "id": "9461439f",
   "metadata": {},
   "outputs": [
    {
     "name": "stdout",
     "output_type": "stream",
     "text": [
      "Accuracy on test data after PCA: 0.81\n",
      "Accuracy on train data after PCA: 0.75\n",
      "Cross Validation Score of Logistic Regression Model after PCA: 74.86\n",
      "              precision    recall  f1-score   support\n",
      "\n",
      "           0       0.83      0.74      0.78       124\n",
      "           1       0.80      0.87      0.83       145\n",
      "\n",
      "    accuracy                           0.81       269\n",
      "   macro avg       0.81      0.81      0.81       269\n",
      "weighted avg       0.81      0.81      0.81       269\n",
      "\n"
     ]
    }
   ],
   "source": [
    "# Apply PCA\n",
    "\n",
    "from sklearn.decomposition import PCA\n",
    "pca = PCA(n_components= 3)  # Reduce to 3 principal components\n",
    "X_train_pca = pca.fit_transform(X_train_resampling)\n",
    "X_test_pca = pca.transform(X_test_resampling)\n",
    "\n",
    "# Train Logistic Regression on PCA-reduced data\n",
    "log_pca = LogisticRegression(random_state=123)\n",
    "log_pca.fit(X_train_pca, y_train_resampling)\n",
    "\n",
    "# Predict and evaluate\n",
    "y_pred = log_pca.predict(X_test_pca)\n",
    "accuracy = accuracy_score(y_test_resampling, y_pred)\n",
    "\n",
    "y_pred_train = log_pca.predict(X_train_pca)\n",
    "accuracy_train = accuracy_score(y_train_resampling, y_pred_train)\n",
    "\n",
    "score = cross_val_score(log_pca,X_train_pca,y_train_resampling,cv=5)\n",
    "\n",
    "print(f'Accuracy on test data after PCA: {accuracy:.2f}')\n",
    "print(f'Accuracy on train data after PCA: {accuracy_train:.2f}')\n",
    "print(\"Cross Validation Score of Logistic Regression Model after PCA:\",(score.mean()*100).round(2))\n",
    "print(classification_report(y_test_resampling,y_pred))"
   ]
  },
  {
   "cell_type": "code",
   "execution_count": 160,
   "id": "b5829ab3",
   "metadata": {},
   "outputs": [
    {
     "name": "stdout",
     "output_type": "stream",
     "text": [
      "Accuracy on test data without PCA: 0.80\n",
      "Accuracy on train data without PCA: 0.77\n",
      "Cross Validation Score of Logistic Regression Model before PCA: 76.22\n",
      "              precision    recall  f1-score   support\n",
      "\n",
      "           0       0.83      0.73      0.77       124\n",
      "           1       0.79      0.87      0.83       145\n",
      "\n",
      "    accuracy                           0.80       269\n",
      "   macro avg       0.81      0.80      0.80       269\n",
      "weighted avg       0.81      0.80      0.80       269\n",
      "\n"
     ]
    }
   ],
   "source": [
    "# Compare with the original model without PCA\n",
    "logreg_original = LogisticRegression(random_state=12)\n",
    "logreg_original.fit(X_train_resampling, y_train_resampling)\n",
    "y_pred_original = logreg_original.predict(X_test_resampling)\n",
    "accuracy_original = accuracy_score(y_test_resampling, y_pred_original)\n",
    "\n",
    "y_pred_train = logreg_original.predict(X_train_resampling)\n",
    "accuracy_train = accuracy_score(y_train_resampling, y_pred_train)\n",
    "\n",
    "score = cross_val_score(logreg_original,X_train_resampling,y_train_resampling,cv=5)\n",
    "\n",
    "print(f'Accuracy on test data without PCA: {accuracy_original:.2f}')\n",
    "print(f'Accuracy on train data without PCA: {accuracy_train:.2f}')\n",
    "print(\"Cross Validation Score of Logistic Regression Model before PCA:\",(score.mean()*100).round(2))\n",
    "print(classification_report(y_test_resampling,y_pred_original))"
   ]
  },
  {
   "cell_type": "code",
   "execution_count": 242,
   "id": "d927506c",
   "metadata": {},
   "outputs": [],
   "source": [
    "from sklearn.metrics import accuracy_score,precision_score,recall_score,f1_score,auc\n",
    "from sklearn.model_selection import cross_val_score\n",
    "\n",
    "models = [LogisticRegression,DecisionTreeClassifier,RandomForestClassifier,KNeighborsClassifier,SVC]\n",
    "accu_train = []\n",
    "accu_test = []\n",
    "CV_score = []\n",
    "precision = []\n",
    "recall= []\n",
    "F1_score = []\n",
    "auc_curve= []\n",
    "\n",
    "for model in models:\n",
    "    regressor = model().fit(X_train, y_train)\n",
    "    pred = regressor.predict(X_test)\n",
    "    pred_train = regressor.predict(X_train)\n",
    "    accu_test.append(accuracy_score(y_test,pred))\n",
    "    accu_train.append(accuracy_score(y_train,pred_train))\n",
    "    precision.append(precision_score(y_test,pred))\n",
    "    recall.append(recall_score(y_test,pred)*100)\n",
    "    F1_score.append(f1_score(y_test,pred))"
   ]
  },
  {
   "cell_type": "code",
   "execution_count": 246,
   "id": "f41caf8d",
   "metadata": {},
   "outputs": [
    {
     "name": "stdout",
     "output_type": "stream",
     "text": [
      "Modles Before Over Sampling\n"
     ]
    },
    {
     "data": {
      "text/html": [
       "<div>\n",
       "<style scoped>\n",
       "    .dataframe tbody tr th:only-of-type {\n",
       "        vertical-align: middle;\n",
       "    }\n",
       "\n",
       "    .dataframe tbody tr th {\n",
       "        vertical-align: top;\n",
       "    }\n",
       "\n",
       "    .dataframe thead th {\n",
       "        text-align: right;\n",
       "    }\n",
       "</style>\n",
       "<table border=\"1\" class=\"dataframe\">\n",
       "  <thead>\n",
       "    <tr style=\"text-align: right;\">\n",
       "      <th></th>\n",
       "      <th>Accuracy_Test</th>\n",
       "      <th>Precison</th>\n",
       "      <th>Recall</th>\n",
       "      <th>F1_Score</th>\n",
       "    </tr>\n",
       "    <tr>\n",
       "      <th>Model</th>\n",
       "      <th></th>\n",
       "      <th></th>\n",
       "      <th></th>\n",
       "      <th></th>\n",
       "    </tr>\n",
       "  </thead>\n",
       "  <tbody>\n",
       "    <tr>\n",
       "      <th>LogisticRegression</th>\n",
       "      <td>0.839572</td>\n",
       "      <td>0.852564</td>\n",
       "      <td>95.000000</td>\n",
       "      <td>0.898649</td>\n",
       "    </tr>\n",
       "    <tr>\n",
       "      <th>DecisionTreeClassifier</th>\n",
       "      <td>0.727273</td>\n",
       "      <td>0.811189</td>\n",
       "      <td>82.857143</td>\n",
       "      <td>0.819788</td>\n",
       "    </tr>\n",
       "    <tr>\n",
       "      <th>RandomForestClassifier</th>\n",
       "      <td>0.786096</td>\n",
       "      <td>0.820513</td>\n",
       "      <td>91.428571</td>\n",
       "      <td>0.864865</td>\n",
       "    </tr>\n",
       "    <tr>\n",
       "      <th>KNeighborsClassifier</th>\n",
       "      <td>0.791444</td>\n",
       "      <td>0.821656</td>\n",
       "      <td>92.142857</td>\n",
       "      <td>0.868687</td>\n",
       "    </tr>\n",
       "    <tr>\n",
       "      <th>SVC</th>\n",
       "      <td>0.812834</td>\n",
       "      <td>0.843137</td>\n",
       "      <td>92.142857</td>\n",
       "      <td>0.880546</td>\n",
       "    </tr>\n",
       "  </tbody>\n",
       "</table>\n",
       "</div>"
      ],
      "text/plain": [
       "                        Accuracy_Test  Precison     Recall  F1_Score\n",
       "Model                                                               \n",
       "LogisticRegression           0.839572  0.852564  95.000000  0.898649\n",
       "DecisionTreeClassifier       0.727273  0.811189  82.857143  0.819788\n",
       "RandomForestClassifier       0.786096  0.820513  91.428571  0.864865\n",
       "KNeighborsClassifier         0.791444  0.821656  92.142857  0.868687\n",
       "SVC                          0.812834  0.843137  92.142857  0.880546"
      ]
     },
     "execution_count": 246,
     "metadata": {},
     "output_type": "execute_result"
    }
   ],
   "source": [
    "# Report :\n",
    "ML_model_df=pd.DataFrame({\"Model\":['LogisticRegression', 'DecisionTreeClassifier',\n",
    "                                   'RandomForestClassifier','KNeighborsClassifier','SVC'],\n",
    "                         \"Accuracy_Test\":accu_test,\n",
    "                         \"Precison\":precision,\n",
    "                         \"Recall\":recall,\n",
    "                         \"F1_Score\":F1_score})\n",
    "print(\"Models Before Over Sampling:\")\n",
    "ML_model_df.set_index('Model',inplace=True)\n",
    "ML_model_df"
   ]
  },
  {
   "cell_type": "code",
   "execution_count": 247,
   "id": "4e8a9bf8",
   "metadata": {},
   "outputs": [],
   "source": [
    "from sklearn.metrics import accuracy_score,precision_score,recall_score,f1_score,auc\n",
    "from sklearn.model_selection import cross_val_score\n",
    "\n",
    "models = [LogisticRegression,DecisionTreeClassifier,RandomForestClassifier,KNeighborsClassifier,SVC]\n",
    "accu_train = []\n",
    "accu_test = []\n",
    "CV_score = []\n",
    "precision = []\n",
    "recall= []\n",
    "F1_score = []\n",
    "auc_curve= []\n",
    "\n",
    "for model in models:\n",
    "    regressor = model().fit(X_train_resampling, y_train_resampling)\n",
    "    pred = regressor.predict(X_test_resampling)\n",
    "    pred_train = regressor.predict(X_train_resampling)\n",
    "    accu_test.append(accuracy_score(y_test_resampling,pred))\n",
    "    accu_train.append(accuracy_score(y_train_resampling,pred_train))\n",
    "    precision.append(precision_score(y_test_resampling,pred))\n",
    "    recall.append(recall_score(y_test_resampling,pred)*100)\n",
    "    F1_score.append(f1_score(y_test_resampling,pred))"
   ]
  },
  {
   "cell_type": "code",
   "execution_count": 249,
   "id": "37f32093",
   "metadata": {},
   "outputs": [
    {
     "name": "stdout",
     "output_type": "stream",
     "text": [
      "Models After Over Sampling:\n"
     ]
    },
    {
     "data": {
      "text/html": [
       "<div>\n",
       "<style scoped>\n",
       "    .dataframe tbody tr th:only-of-type {\n",
       "        vertical-align: middle;\n",
       "    }\n",
       "\n",
       "    .dataframe tbody tr th {\n",
       "        vertical-align: top;\n",
       "    }\n",
       "\n",
       "    .dataframe thead th {\n",
       "        text-align: right;\n",
       "    }\n",
       "</style>\n",
       "<table border=\"1\" class=\"dataframe\">\n",
       "  <thead>\n",
       "    <tr style=\"text-align: right;\">\n",
       "      <th></th>\n",
       "      <th>Accuracy_Test</th>\n",
       "      <th>Precison</th>\n",
       "      <th>Recall</th>\n",
       "      <th>F1_Score</th>\n",
       "    </tr>\n",
       "    <tr>\n",
       "      <th>Model</th>\n",
       "      <th></th>\n",
       "      <th></th>\n",
       "      <th></th>\n",
       "      <th></th>\n",
       "    </tr>\n",
       "  </thead>\n",
       "  <tbody>\n",
       "    <tr>\n",
       "      <th>LogisticRegression</th>\n",
       "      <td>0.802974</td>\n",
       "      <td>0.787500</td>\n",
       "      <td>86.896552</td>\n",
       "      <td>0.826230</td>\n",
       "    </tr>\n",
       "    <tr>\n",
       "      <th>DecisionTreeClassifier</th>\n",
       "      <td>0.769517</td>\n",
       "      <td>0.802920</td>\n",
       "      <td>75.862069</td>\n",
       "      <td>0.780142</td>\n",
       "    </tr>\n",
       "    <tr>\n",
       "      <th>RandomForestClassifier</th>\n",
       "      <td>0.869888</td>\n",
       "      <td>0.904412</td>\n",
       "      <td>84.827586</td>\n",
       "      <td>0.875445</td>\n",
       "    </tr>\n",
       "    <tr>\n",
       "      <th>KNeighborsClassifier</th>\n",
       "      <td>0.806691</td>\n",
       "      <td>0.878049</td>\n",
       "      <td>74.482759</td>\n",
       "      <td>0.805970</td>\n",
       "    </tr>\n",
       "    <tr>\n",
       "      <th>SVC</th>\n",
       "      <td>0.821561</td>\n",
       "      <td>0.821192</td>\n",
       "      <td>85.517241</td>\n",
       "      <td>0.837838</td>\n",
       "    </tr>\n",
       "  </tbody>\n",
       "</table>\n",
       "</div>"
      ],
      "text/plain": [
       "                        Accuracy_Test  Precison     Recall  F1_Score\n",
       "Model                                                               \n",
       "LogisticRegression           0.802974  0.787500  86.896552  0.826230\n",
       "DecisionTreeClassifier       0.769517  0.802920  75.862069  0.780142\n",
       "RandomForestClassifier       0.869888  0.904412  84.827586  0.875445\n",
       "KNeighborsClassifier         0.806691  0.878049  74.482759  0.805970\n",
       "SVC                          0.821561  0.821192  85.517241  0.837838"
      ]
     },
     "execution_count": 249,
     "metadata": {},
     "output_type": "execute_result"
    }
   ],
   "source": [
    "ML_model_df=pd.DataFrame({\"Model\":['LogisticRegression', 'DecisionTreeClassifier',\n",
    "                                   'RandomForestClassifier','KNeighborsClassifier','SVC'],\n",
    "                         \"Accuracy_Test\":accu_test,\n",
    "                         \"Precison\":precision,\n",
    "                         \"Recall\":recall,\n",
    "                         \"F1_Score\":F1_score})\n",
    "print(\"Models After Over Sampling:\")\n",
    "ML_model_df.set_index('Model',inplace=True)\n",
    "ML_model_df"
   ]
  },
  {
   "cell_type": "code",
   "execution_count": 250,
   "id": "c734bca2",
   "metadata": {},
   "outputs": [],
   "source": [
    "from sklearn.metrics import accuracy_score,precision_score,recall_score,f1_score,auc\n",
    "from sklearn.model_selection import cross_val_score\n",
    "\n",
    "models = [LogisticRegression,DecisionTreeClassifier,RandomForestClassifier,KNeighborsClassifier,SVC]\n",
    "accu_train = []\n",
    "accu_test = []\n",
    "CV_score = []\n",
    "precision = []\n",
    "recall= []\n",
    "F1_score = []\n",
    "auc_curve= []\n",
    "\n",
    "for model in models:\n",
    "    regressor = model().fit(X_train_pca, y_train_resampling)\n",
    "    pred = regressor.predict(X_test_pca)\n",
    "    accu_test.append(accuracy_score(y_test_resampling,pred))\n",
    "    accu_train.append(accuracy_score(y_train_resampling,pred_train))\n",
    "    precision.append(precision_score(y_test_resampling,pred))\n",
    "    recall.append(recall_score(y_test_resampling,pred)*100)\n",
    "    F1_score.append(f1_score(y_test_resampling,pred))"
   ]
  },
  {
   "cell_type": "code",
   "execution_count": 252,
   "id": "645cf28b",
   "metadata": {},
   "outputs": [
    {
     "name": "stdout",
     "output_type": "stream",
     "text": [
      "Models After PCA:\n"
     ]
    },
    {
     "data": {
      "text/html": [
       "<div>\n",
       "<style scoped>\n",
       "    .dataframe tbody tr th:only-of-type {\n",
       "        vertical-align: middle;\n",
       "    }\n",
       "\n",
       "    .dataframe tbody tr th {\n",
       "        vertical-align: top;\n",
       "    }\n",
       "\n",
       "    .dataframe thead th {\n",
       "        text-align: right;\n",
       "    }\n",
       "</style>\n",
       "<table border=\"1\" class=\"dataframe\">\n",
       "  <thead>\n",
       "    <tr style=\"text-align: right;\">\n",
       "      <th></th>\n",
       "      <th>Accuracy_Test</th>\n",
       "      <th>Precison</th>\n",
       "      <th>Recall</th>\n",
       "      <th>F1_Score</th>\n",
       "    </tr>\n",
       "    <tr>\n",
       "      <th>Model</th>\n",
       "      <th></th>\n",
       "      <th></th>\n",
       "      <th></th>\n",
       "      <th></th>\n",
       "    </tr>\n",
       "  </thead>\n",
       "  <tbody>\n",
       "    <tr>\n",
       "      <th>LogisticRegression</th>\n",
       "      <td>0.810409</td>\n",
       "      <td>0.797468</td>\n",
       "      <td>86.896552</td>\n",
       "      <td>0.831683</td>\n",
       "    </tr>\n",
       "    <tr>\n",
       "      <th>DecisionTreeClassifier</th>\n",
       "      <td>0.728625</td>\n",
       "      <td>0.764706</td>\n",
       "      <td>71.724138</td>\n",
       "      <td>0.740214</td>\n",
       "    </tr>\n",
       "    <tr>\n",
       "      <th>RandomForestClassifier</th>\n",
       "      <td>0.758364</td>\n",
       "      <td>0.807692</td>\n",
       "      <td>72.413793</td>\n",
       "      <td>0.763636</td>\n",
       "    </tr>\n",
       "    <tr>\n",
       "      <th>KNeighborsClassifier</th>\n",
       "      <td>0.762082</td>\n",
       "      <td>0.804511</td>\n",
       "      <td>73.793103</td>\n",
       "      <td>0.769784</td>\n",
       "    </tr>\n",
       "    <tr>\n",
       "      <th>SVC</th>\n",
       "      <td>0.795539</td>\n",
       "      <td>0.826087</td>\n",
       "      <td>78.620690</td>\n",
       "      <td>0.805654</td>\n",
       "    </tr>\n",
       "  </tbody>\n",
       "</table>\n",
       "</div>"
      ],
      "text/plain": [
       "                        Accuracy_Test  Precison     Recall  F1_Score\n",
       "Model                                                               \n",
       "LogisticRegression           0.810409  0.797468  86.896552  0.831683\n",
       "DecisionTreeClassifier       0.728625  0.764706  71.724138  0.740214\n",
       "RandomForestClassifier       0.758364  0.807692  72.413793  0.763636\n",
       "KNeighborsClassifier         0.762082  0.804511  73.793103  0.769784\n",
       "SVC                          0.795539  0.826087  78.620690  0.805654"
      ]
     },
     "execution_count": 252,
     "metadata": {},
     "output_type": "execute_result"
    }
   ],
   "source": [
    "ML_model_df=pd.DataFrame({\"Model\":['LogisticRegression', 'DecisionTreeClassifier',\n",
    "                                   'RandomForestClassifier','KNeighborsClassifier','SVC'],\n",
    "                         \"Accuracy_Test\":accu_test,\n",
    "                         \"Precison\":precision,\n",
    "                         \"Recall\":recall,\n",
    "                         \"F1_Score\":F1_score})\n",
    "print(\"Models After PCA and resolve the :\")\n",
    "ML_model_df.set_index('Model',inplace=True)\n",
    "ML_model_df"
   ]
  },
  {
   "cell_type": "code",
   "execution_count": 161,
   "id": "4295a23c",
   "metadata": {},
   "outputs": [],
   "source": [
    "# Pickle File:"
   ]
  },
  {
   "cell_type": "code",
   "execution_count": 162,
   "id": "1d318904",
   "metadata": {},
   "outputs": [
    {
     "name": "stdout",
     "output_type": "stream",
     "text": [
      "Model saved to logreg_model.pkl\n"
     ]
    }
   ],
   "source": [
    "import pickle\n",
    "\n",
    "# Save the trained model as a .pkl file\n",
    "with open('logreg_model.pkl', 'wb') as file:\n",
    "    pickle.dump(log_pca, file)\n",
    "\n",
    "print(\"Model saved to logreg_model.pkl\")\n"
   ]
  },
  {
   "cell_type": "code",
   "execution_count": 164,
   "id": "3609e06c",
   "metadata": {},
   "outputs": [
    {
     "name": "stdout",
     "output_type": "stream",
     "text": [
      "Test Accuracy (loaded model): 0.8104089219330854\n"
     ]
    }
   ],
   "source": [
    "# Load the saved model from the .pkl file\n",
    "with open('logreg_model.pkl', 'rb') as file:\n",
    "    loaded_model = pickle.load(file)\n",
    "\n",
    "# Use the loaded model to make predictions\n",
    "y_pred_loaded = loaded_model.predict(X_test_pca)\n",
    "print(f\"Test Accuracy (loaded model): {accuracy_score(y_test_resampling, y_pred_loaded)}\")\n"
   ]
  },
  {
   "cell_type": "code",
   "execution_count": null,
   "id": "0720053a",
   "metadata": {},
   "outputs": [],
   "source": []
  }
 ],
 "metadata": {
  "kernelspec": {
   "display_name": "Python 3 (ipykernel)",
   "language": "python",
   "name": "python3"
  },
  "language_info": {
   "codemirror_mode": {
    "name": "ipython",
    "version": 3
   },
   "file_extension": ".py",
   "mimetype": "text/x-python",
   "name": "python",
   "nbconvert_exporter": "python",
   "pygments_lexer": "ipython3",
   "version": "3.11.4"
  }
 },
 "nbformat": 4,
 "nbformat_minor": 5
}
